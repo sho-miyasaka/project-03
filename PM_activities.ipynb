{
 "cells": [
  {
   "cell_type": "code",
   "execution_count": 13,
   "id": "14109841",
   "metadata": {},
   "outputs": [],
   "source": [
    "import pandas as pd\n",
    "from datetime import datetime"
   ]
  },
  {
   "cell_type": "code",
   "execution_count": 14,
   "id": "59ac5267",
   "metadata": {},
   "outputs": [],
   "source": [
    "df_PM_activities = pd.read_csv('PM_activities.csv')"
   ]
  },
  {
   "cell_type": "code",
   "execution_count": 15,
   "id": "135649ab",
   "metadata": {},
   "outputs": [
    {
     "data": {
      "text/html": [
       "<div>\n",
       "<style scoped>\n",
       "    .dataframe tbody tr th:only-of-type {\n",
       "        vertical-align: middle;\n",
       "    }\n",
       "\n",
       "    .dataframe tbody tr th {\n",
       "        vertical-align: top;\n",
       "    }\n",
       "\n",
       "    .dataframe thead th {\n",
       "        text-align: right;\n",
       "    }\n",
       "</style>\n",
       "<table border=\"1\" class=\"dataframe\">\n",
       "  <thead>\n",
       "    <tr style=\"text-align: right;\">\n",
       "      <th></th>\n",
       "      <th>original</th>\n",
       "      <th>PM</th>\n",
       "      <th>date</th>\n",
       "      <th>publish_date</th>\n",
       "      <th>activities</th>\n",
       "      <th>date_est</th>\n",
       "    </tr>\n",
       "  </thead>\n",
       "  <tbody>\n",
       "    <tr>\n",
       "      <th>0</th>\n",
       "      <td>\\n12月26日（首相官邸）\\n2012/12/27 日本経済新聞　朝刊 4ページ 197文...</td>\n",
       "      <td>Shinzo_Abe</td>\n",
       "      <td>12月26日</td>\n",
       "      <td>2012-12-27</td>\n",
       "      <td>〈26日〉▽18時22分　皇居で首相親任式、閣僚認証式。▽21時39分　官邸で記者会見。▽2...</td>\n",
       "      <td>2012-12-26</td>\n",
       "    </tr>\n",
       "    <tr>\n",
       "      <th>1</th>\n",
       "      <td>\\n12月27日（首相官邸）\\n2012/12/28 日本経済新聞　朝刊 4ページ 261文...</td>\n",
       "      <td>Shinzo_Abe</td>\n",
       "      <td>12月27日</td>\n",
       "      <td>2012-12-28</td>\n",
       "      <td>▽10時21分　官邸で菅官房長官、加藤官房副長官。▽11時29分　古屋拉致担当相、三谷拉致問...</td>\n",
       "      <td>2012-12-27</td>\n",
       "    </tr>\n",
       "    <tr>\n",
       "      <th>2</th>\n",
       "      <td>\\n12月28日（首相官邸）\\n2012/12/29 日本経済新聞　朝刊 4ページ 476文...</td>\n",
       "      <td>Shinzo_Abe</td>\n",
       "      <td>12月28日</td>\n",
       "      <td>2012-12-29</td>\n",
       "      <td>▽8時40分　富ケ谷の私邸発。▽9時1分　党本部で高村副総裁、石破幹事長。▽9時34分　官邸...</td>\n",
       "      <td>2012-12-28</td>\n",
       "    </tr>\n",
       "  </tbody>\n",
       "</table>\n",
       "</div>"
      ],
      "text/plain": [
       "                                            original          PM    date  \\\n",
       "0  \\n12月26日（首相官邸）\\n2012/12/27 日本経済新聞　朝刊 4ページ 197文...  Shinzo_Abe  12月26日   \n",
       "1  \\n12月27日（首相官邸）\\n2012/12/28 日本経済新聞　朝刊 4ページ 261文...  Shinzo_Abe  12月27日   \n",
       "2  \\n12月28日（首相官邸）\\n2012/12/29 日本経済新聞　朝刊 4ページ 476文...  Shinzo_Abe  12月28日   \n",
       "\n",
       "  publish_date                                         activities   date_est  \n",
       "0   2012-12-27  〈26日〉▽18時22分　皇居で首相親任式、閣僚認証式。▽21時39分　官邸で記者会見。▽2... 2012-12-26  \n",
       "1   2012-12-28  ▽10時21分　官邸で菅官房長官、加藤官房副長官。▽11時29分　古屋拉致担当相、三谷拉致問... 2012-12-27  \n",
       "2   2012-12-29  ▽8時40分　富ケ谷の私邸発。▽9時1分　党本部で高村副総裁、石破幹事長。▽9時34分　官邸... 2012-12-28  "
      ]
     },
     "execution_count": 15,
     "metadata": {},
     "output_type": "execute_result"
    }
   ],
   "source": [
    "df = df_PM_activities.drop(columns=['Unnamed: 0', 'number'])\n",
    "df['publish_date'] = pd.to_datetime(df['publish_date'])\n",
    "df['date_est'] = df['publish_date'] - pd.Timedelta(days=1)\n",
    "df.to_csv(\"df.csv\",encoding='UTF-8')\n",
    "df.head(3)"
   ]
  },
  {
   "cell_type": "code",
   "execution_count": 4,
   "id": "0c958824",
   "metadata": {},
   "outputs": [
    {
     "name": "stdout",
     "output_type": "stream",
     "text": [
      "2822\n",
      "384\n",
      "635\n"
     ]
    }
   ],
   "source": [
    "from datetime import datetime\n",
    "\n",
    "abe_term = datetime(2020,9,16) - datetime(2012,12,26)\n",
    "suga_term = datetime(2021,10,4) - datetime(2020,9,16)\n",
    "kishida_term = datetime(2023,6,30) - datetime(2021,10,4)\n",
    "abe_term_days = abe_term.days +1\n",
    "suga_term_days= suga_term.days +1\n",
    "kishida_term_days= kishida_term.days +1\n",
    "print(abe_term_days)\n",
    "print(suga_term_days)\n",
    "print(kishida_term_days)"
   ]
  },
  {
   "cell_type": "markdown",
   "id": "813a4c55",
   "metadata": {},
   "source": [
    "# Search word"
   ]
  },
  {
   "cell_type": "code",
   "execution_count": 8,
   "id": "d94166a3",
   "metadata": {},
   "outputs": [
    {
     "data": {
      "text/plain": [
       "'政府専用機'"
      ]
     },
     "execution_count": 8,
     "metadata": {},
     "output_type": "execute_result"
    }
   ],
   "source": [
    "word = \"政府専用機\"\n",
    "word"
   ]
  },
  {
   "cell_type": "code",
   "execution_count": 6,
   "id": "cb84bf1a",
   "metadata": {},
   "outputs": [
    {
     "data": {
      "text/html": [
       "<div>\n",
       "<style scoped>\n",
       "    .dataframe tbody tr th:only-of-type {\n",
       "        vertical-align: middle;\n",
       "    }\n",
       "\n",
       "    .dataframe tbody tr th {\n",
       "        vertical-align: top;\n",
       "    }\n",
       "\n",
       "    .dataframe thead th {\n",
       "        text-align: right;\n",
       "    }\n",
       "</style>\n",
       "<table border=\"1\" class=\"dataframe\">\n",
       "  <thead>\n",
       "    <tr style=\"text-align: right;\">\n",
       "      <th></th>\n",
       "      <th>PM</th>\n",
       "      <th>date</th>\n",
       "      <th>publish_date</th>\n",
       "      <th>activities</th>\n",
       "    </tr>\n",
       "  </thead>\n",
       "  <tbody>\n",
       "    <tr>\n",
       "      <th>7</th>\n",
       "      <td>Shinzo_Abe</td>\n",
       "      <td>1月3日</td>\n",
       "      <td>2013-01-04</td>\n",
       "      <td>▽8時2分　千葉県市原市の森永高滝カントリー倶楽部で親族らとゴルフ。▽16時　グランドハイア...</td>\n",
       "    </tr>\n",
       "    <tr>\n",
       "      <th>65</th>\n",
       "      <td>Shinzo_Abe</td>\n",
       "      <td>3月3日</td>\n",
       "      <td>2013-03-04</td>\n",
       "      <td>▽7時52分　山梨県鳴沢村の別荘発。▽8時28分　静岡県小山町の東富士カントリークラブで昭恵...</td>\n",
       "    </tr>\n",
       "    <tr>\n",
       "      <th>85</th>\n",
       "      <td>Shinzo_Abe</td>\n",
       "      <td>3月23日</td>\n",
       "      <td>2013-03-24</td>\n",
       "      <td>▽7時15分　富ケ谷の私邸発。▽8時36分　神奈川県茅ケ崎市のスリーハンドレッドクラブで親族...</td>\n",
       "    </tr>\n",
       "    <tr>\n",
       "      <th>128</th>\n",
       "      <td>Shinzo_Abe</td>\n",
       "      <td>5月6日・7日</td>\n",
       "      <td>2013-05-08</td>\n",
       "      <td>〈6日〉▽7時7分　山梨県鳴沢村の別荘発。▽7時11分　富士河口湖町の富士桜カントリー倶楽部...</td>\n",
       "    </tr>\n",
       "    <tr>\n",
       "      <th>222</th>\n",
       "      <td>Shinzo_Abe</td>\n",
       "      <td>8月10日</td>\n",
       "      <td>2013-08-11</td>\n",
       "      <td>▽7時8分　静養先の山梨県鳴沢村の別荘発。▽7時14分　鳴沢ゴルフ倶楽部で友人、秘書官とゴル...</td>\n",
       "    </tr>\n",
       "    <tr>\n",
       "      <th>...</th>\n",
       "      <td>...</td>\n",
       "      <td>...</td>\n",
       "      <td>...</td>\n",
       "      <td>...</td>\n",
       "    </tr>\n",
       "    <tr>\n",
       "      <th>2975</th>\n",
       "      <td>Yoshihide_Suga</td>\n",
       "      <td>4月30日</td>\n",
       "      <td>2021-05-01</td>\n",
       "      <td>▽7時52分　東京・赤坂の衆院議員宿舎発。56分　官邸。敷地内を散歩。▽9時1分　閣議。25...</td>\n",
       "    </tr>\n",
       "    <tr>\n",
       "      <th>3210</th>\n",
       "      <td>Fumio_Kishida</td>\n",
       "      <td>12月28日</td>\n",
       "      <td>2021-12-29</td>\n",
       "      <td>▽9時4分　公邸から官邸。5分　鈴木宗男日本維新の会参院議員。18分　孤独・孤立対策推進会議...</td>\n",
       "    </tr>\n",
       "    <tr>\n",
       "      <th>3431</th>\n",
       "      <td>Fumio_Kishida</td>\n",
       "      <td>8月14日</td>\n",
       "      <td>2022-08-15</td>\n",
       "      <td>▽10時26分　東京・赤坂の「エースゴルフクラブ赤坂」。ゴルフの練習。裕子夫人同行。▽11時...</td>\n",
       "    </tr>\n",
       "    <tr>\n",
       "      <th>3433</th>\n",
       "      <td>Fumio_Kishida</td>\n",
       "      <td>8月16日</td>\n",
       "      <td>2022-08-17</td>\n",
       "      <td>▽7時4分　公邸発。59分　茨城県つくばみらい市のゴルフ場「取手国際ゴルフ倶楽部」。裕子夫人...</td>\n",
       "    </tr>\n",
       "    <tr>\n",
       "      <th>3655</th>\n",
       "      <td>Fumio_Kishida</td>\n",
       "      <td>4月2日</td>\n",
       "      <td>2023-04-03</td>\n",
       "      <td>▽6時12分　公邸発。▽7時3分　茨城県つくばみらい市のゴルフ場「筑波カントリークラブ」。野...</td>\n",
       "    </tr>\n",
       "  </tbody>\n",
       "</table>\n",
       "<p>112 rows × 4 columns</p>\n",
       "</div>"
      ],
      "text/plain": [
       "                  PM     date publish_date  \\\n",
       "7         Shinzo_Abe     1月3日   2013-01-04   \n",
       "65        Shinzo_Abe     3月3日   2013-03-04   \n",
       "85        Shinzo_Abe    3月23日   2013-03-24   \n",
       "128       Shinzo_Abe  5月6日・7日   2013-05-08   \n",
       "222       Shinzo_Abe    8月10日   2013-08-11   \n",
       "...              ...      ...          ...   \n",
       "2975  Yoshihide_Suga    4月30日   2021-05-01   \n",
       "3210   Fumio_Kishida   12月28日   2021-12-29   \n",
       "3431   Fumio_Kishida    8月14日   2022-08-15   \n",
       "3433   Fumio_Kishida    8月16日   2022-08-17   \n",
       "3655   Fumio_Kishida     4月2日   2023-04-03   \n",
       "\n",
       "                                             activities  \n",
       "7     ▽8時2分　千葉県市原市の森永高滝カントリー倶楽部で親族らとゴルフ。▽16時　グランドハイア...  \n",
       "65    ▽7時52分　山梨県鳴沢村の別荘発。▽8時28分　静岡県小山町の東富士カントリークラブで昭恵...  \n",
       "85    ▽7時15分　富ケ谷の私邸発。▽8時36分　神奈川県茅ケ崎市のスリーハンドレッドクラブで親族...  \n",
       "128   〈6日〉▽7時7分　山梨県鳴沢村の別荘発。▽7時11分　富士河口湖町の富士桜カントリー倶楽部...  \n",
       "222   ▽7時8分　静養先の山梨県鳴沢村の別荘発。▽7時14分　鳴沢ゴルフ倶楽部で友人、秘書官とゴル...  \n",
       "...                                                 ...  \n",
       "2975  ▽7時52分　東京・赤坂の衆院議員宿舎発。56分　官邸。敷地内を散歩。▽9時1分　閣議。25...  \n",
       "3210  ▽9時4分　公邸から官邸。5分　鈴木宗男日本維新の会参院議員。18分　孤独・孤立対策推進会議...  \n",
       "3431  ▽10時26分　東京・赤坂の「エースゴルフクラブ赤坂」。ゴルフの練習。裕子夫人同行。▽11時...  \n",
       "3433  ▽7時4分　公邸発。59分　茨城県つくばみらい市のゴルフ場「取手国際ゴルフ倶楽部」。裕子夫人...  \n",
       "3655  ▽6時12分　公邸発。▽7時3分　茨城県つくばみらい市のゴルフ場「筑波カントリークラブ」。野...  \n",
       "\n",
       "[112 rows x 4 columns]"
      ]
     },
     "execution_count": 6,
     "metadata": {},
     "output_type": "execute_result"
    }
   ],
   "source": [
    "filtered_df = df[df['activities'].str.contains(word)]\n",
    "filtered_df[['PM', 'date', 'publish_date', 'activities']].to_csv(f\"PM_activities{word}.csv\",encoding='UTF-8')\n",
    "filtered_df[['PM', 'date', 'publish_date', 'activities']]"
   ]
  },
  {
   "cell_type": "code",
   "execution_count": 7,
   "id": "b70d1413",
   "metadata": {},
   "outputs": [
    {
     "name": "stdout",
     "output_type": "stream",
     "text": [
      "ゴルフ\n",
      "Shinzo_Abe: 107 times; 13.84/year\n",
      "Yoshihide_Suga:1 times; 0.95/year\n",
      "Fumio_Kishida:4 times; 2.3/year\n"
     ]
    }
   ],
   "source": [
    "abe_count = df[df['PM'] == 'Shinzo_Abe']['activities'].str.contains(word).sum() \n",
    "suga_count = df[df['PM'] == 'Yoshihide_Suga']['activities'].str.contains(word).sum() \n",
    "kishida_count = df[df['PM'] == 'Fumio_Kishida']['activities'].str.contains(word).sum() \n",
    "\n",
    "abe_freq = abe_count/abe_term_days *365\n",
    "suga_freq = suga_count/suga_term_days *365\n",
    "kishida_freq = kishida_count/kishida_term_days *365\n",
    "\n",
    "print(word)\n",
    "print(f\"Shinzo_Abe: {abe_count} times; {round(abe_freq,2)}/year\")\n",
    "print(f\"Yoshihide_Suga:{suga_count} times; {round(suga_freq,2)}/year\")\n",
    "print(f\"Fumio_Kishida:{kishida_count} times; {round(kishida_freq,2)}/year\")\n"
   ]
  },
  {
   "cell_type": "markdown",
   "id": "7dbe9bfe",
   "metadata": {},
   "source": [
    "散髪\n",
    "Shinzo_Abe: 93 times; 12.03/year\n",
    "Yoshihide_Suga:12 times; 11.41/year\n",
    "Fumio_Kishida:42 times; 24.14/year\n",
    "\n",
    "散歩\n",
    "Shinzo_Abe: 16 times; 2.07/year\n",
    "Yoshihide_Suga:199 times; 189.15/year\n",
    "Fumio_Kishida:0 times; 0.0/year\n",
    "\n",
    "マッサージ\n",
    "Shinzo_Abe: 1 times; 0.13/year\n",
    "Yoshihide_Suga:2 times; 1.9/year\n",
    "Fumio_Kishida:10 times; 5.75/year\n",
    "\n",
    "ゴルフ\n",
    "Shinzo_Abe: 107 times; 13.84/year\n",
    "Yoshihide_Suga:1 times; 0.95/year\n",
    "Fumio_Kishida:4 times; 2.3/year\n",
    "\n",
    "政府専用機\n",
    "Shinzo_Abe: 292 times; 37.77/year\n",
    "Yoshihide_Suga:13 times; 12.36/year\n",
    "Fumio_Kishida:56 times; 32.19/year\n",
    "\n",
    "インタビュー\n",
    "Shinzo_Abe: 751 times; 97.14/year\n",
    "Yoshihide_Suga:135 times; 128.32/year\n",
    "Fumio_Kishida:262 times; 150.6/year"
   ]
  },
  {
   "cell_type": "code",
   "execution_count": null,
   "id": "cfa604d4",
   "metadata": {},
   "outputs": [],
   "source": []
  }
 ],
 "metadata": {
  "kernelspec": {
   "display_name": "Python 3 (ipykernel)",
   "language": "python",
   "name": "python3"
  },
  "language_info": {
   "codemirror_mode": {
    "name": "ipython",
    "version": 3
   },
   "file_extension": ".py",
   "mimetype": "text/x-python",
   "name": "python",
   "nbconvert_exporter": "python",
   "pygments_lexer": "ipython3",
   "version": "3.10.11"
  }
 },
 "nbformat": 4,
 "nbformat_minor": 5
}
