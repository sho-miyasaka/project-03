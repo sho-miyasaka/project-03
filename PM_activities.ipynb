{
 "cells": [
  {
   "cell_type": "code",
   "execution_count": 1,
   "id": "14109841",
   "metadata": {},
   "outputs": [],
   "source": [
    "import pandas as pd\n",
    "from datetime import datetime"
   ]
  },
  {
   "cell_type": "code",
   "execution_count": 2,
   "id": "59ac5267",
   "metadata": {},
   "outputs": [],
   "source": [
    "df_PM_activities = pd.read_csv('PM_activities.csv')"
   ]
  },
  {
   "cell_type": "code",
   "execution_count": null,
   "id": "e8affde0",
   "metadata": {},
   "outputs": [],
   "source": []
  },
  {
   "cell_type": "code",
   "execution_count": 3,
   "id": "135649ab",
   "metadata": {},
   "outputs": [
    {
     "data": {
      "text/html": [
       "<div>\n",
       "<style scoped>\n",
       "    .dataframe tbody tr th:only-of-type {\n",
       "        vertical-align: middle;\n",
       "    }\n",
       "\n",
       "    .dataframe tbody tr th {\n",
       "        vertical-align: top;\n",
       "    }\n",
       "\n",
       "    .dataframe thead th {\n",
       "        text-align: right;\n",
       "    }\n",
       "</style>\n",
       "<table border=\"1\" class=\"dataframe\">\n",
       "  <thead>\n",
       "    <tr style=\"text-align: right;\">\n",
       "      <th></th>\n",
       "      <th>original</th>\n",
       "      <th>PM</th>\n",
       "      <th>date</th>\n",
       "      <th>publish_date</th>\n",
       "      <th>activities</th>\n",
       "      <th>date_est</th>\n",
       "    </tr>\n",
       "  </thead>\n",
       "  <tbody>\n",
       "    <tr>\n",
       "      <th>0</th>\n",
       "      <td>\\n12月26日（首相官邸）\\n2012/12/27 日本経済新聞　朝刊 4ページ 197文...</td>\n",
       "      <td>Shinzo_Abe</td>\n",
       "      <td>12月26日</td>\n",
       "      <td>2012-12-27</td>\n",
       "      <td>〈26日〉▽18時22分　皇居で首相親任式、閣僚認証式。▽21時39分　官邸で記者会見。▽2...</td>\n",
       "      <td>2012-12-26</td>\n",
       "    </tr>\n",
       "    <tr>\n",
       "      <th>1</th>\n",
       "      <td>\\n12月27日（首相官邸）\\n2012/12/28 日本経済新聞　朝刊 4ページ 261文...</td>\n",
       "      <td>Shinzo_Abe</td>\n",
       "      <td>12月27日</td>\n",
       "      <td>2012-12-28</td>\n",
       "      <td>▽10時21分　官邸で菅官房長官、加藤官房副長官。▽11時29分　古屋拉致担当相、三谷拉致問...</td>\n",
       "      <td>2012-12-27</td>\n",
       "    </tr>\n",
       "    <tr>\n",
       "      <th>2</th>\n",
       "      <td>\\n12月28日（首相官邸）\\n2012/12/29 日本経済新聞　朝刊 4ページ 476文...</td>\n",
       "      <td>Shinzo_Abe</td>\n",
       "      <td>12月28日</td>\n",
       "      <td>2012-12-29</td>\n",
       "      <td>▽8時40分　富ケ谷の私邸発。▽9時1分　党本部で高村副総裁、石破幹事長。▽9時34分　官邸...</td>\n",
       "      <td>2012-12-28</td>\n",
       "    </tr>\n",
       "  </tbody>\n",
       "</table>\n",
       "</div>"
      ],
      "text/plain": [
       "                                            original          PM    date  \\\n",
       "0  \\n12月26日（首相官邸）\\n2012/12/27 日本経済新聞　朝刊 4ページ 197文...  Shinzo_Abe  12月26日   \n",
       "1  \\n12月27日（首相官邸）\\n2012/12/28 日本経済新聞　朝刊 4ページ 261文...  Shinzo_Abe  12月27日   \n",
       "2  \\n12月28日（首相官邸）\\n2012/12/29 日本経済新聞　朝刊 4ページ 476文...  Shinzo_Abe  12月28日   \n",
       "\n",
       "  publish_date                                         activities   date_est  \n",
       "0   2012-12-27  〈26日〉▽18時22分　皇居で首相親任式、閣僚認証式。▽21時39分　官邸で記者会見。▽2... 2012-12-26  \n",
       "1   2012-12-28  ▽10時21分　官邸で菅官房長官、加藤官房副長官。▽11時29分　古屋拉致担当相、三谷拉致問... 2012-12-27  \n",
       "2   2012-12-29  ▽8時40分　富ケ谷の私邸発。▽9時1分　党本部で高村副総裁、石破幹事長。▽9時34分　官邸... 2012-12-28  "
      ]
     },
     "execution_count": 3,
     "metadata": {},
     "output_type": "execute_result"
    }
   ],
   "source": [
    "df = df_PM_activities.drop(columns=['Unnamed: 0', 'number'])\n",
    "df['publish_date'] = pd.to_datetime(df['publish_date'])\n",
    "df['date_est'] = df['publish_date'] - pd.Timedelta(days=1)\n",
    "df.to_csv(\"df.csv\",encoding='UTF-8')\n",
    "df.head(3)"
   ]
  },
  {
   "cell_type": "code",
   "execution_count": 4,
   "id": "0c958824",
   "metadata": {},
   "outputs": [
    {
     "name": "stdout",
     "output_type": "stream",
     "text": [
      "2822\n",
      "384\n",
      "635\n"
     ]
    }
   ],
   "source": [
    "from datetime import datetime\n",
    "\n",
    "abe_term = datetime(2020,9,16) - datetime(2012,12,26)\n",
    "suga_term = datetime(2021,10,4) - datetime(2020,9,16)\n",
    "kishida_term = datetime(2023,6,30) - datetime(2021,10,4)\n",
    "abe_term_days = abe_term.days +1\n",
    "suga_term_days= suga_term.days +1\n",
    "kishida_term_days= kishida_term.days +1\n",
    "print(abe_term_days)\n",
    "print(suga_term_days)\n",
    "print(kishida_term_days)"
   ]
  },
  {
   "cell_type": "markdown",
   "id": "813a4c55",
   "metadata": {},
   "source": [
    "# Search word"
   ]
  },
  {
   "cell_type": "code",
   "execution_count": 5,
   "id": "d94166a3",
   "metadata": {},
   "outputs": [
    {
     "data": {
      "text/plain": [
       "'散髪'"
      ]
     },
     "execution_count": 5,
     "metadata": {},
     "output_type": "execute_result"
    }
   ],
   "source": [
    "word = \"散髪\"\n",
    "word"
   ]
  },
  {
   "cell_type": "code",
   "execution_count": 6,
   "id": "cb84bf1a",
   "metadata": {},
   "outputs": [
    {
     "data": {
      "text/html": [
       "<div>\n",
       "<style scoped>\n",
       "    .dataframe tbody tr th:only-of-type {\n",
       "        vertical-align: middle;\n",
       "    }\n",
       "\n",
       "    .dataframe tbody tr th {\n",
       "        vertical-align: top;\n",
       "    }\n",
       "\n",
       "    .dataframe thead th {\n",
       "        text-align: right;\n",
       "    }\n",
       "</style>\n",
       "<table border=\"1\" class=\"dataframe\">\n",
       "  <thead>\n",
       "    <tr style=\"text-align: right;\">\n",
       "      <th></th>\n",
       "      <th>PM</th>\n",
       "      <th>date</th>\n",
       "      <th>publish_date</th>\n",
       "      <th>activities</th>\n",
       "    </tr>\n",
       "  </thead>\n",
       "  <tbody>\n",
       "    <tr>\n",
       "      <th>10</th>\n",
       "      <td>Shinzo_Abe</td>\n",
       "      <td>1月6日</td>\n",
       "      <td>2013-01-07</td>\n",
       "      <td>午前中は富ケ谷の私邸で過ごす。▽13時30分　すしチェーン店「すしざんまい」経営の木村清「...</td>\n",
       "    </tr>\n",
       "    <tr>\n",
       "      <th>38</th>\n",
       "      <td>Shinzo_Abe</td>\n",
       "      <td>2月3日</td>\n",
       "      <td>2013-02-04</td>\n",
       "      <td>午前中は富ケ谷の私邸で過ごす。▽12時56分　渋谷の美容室「ＨＡＩＲ　ＧＵＥＳＴ」で散髪。...</td>\n",
       "    </tr>\n",
       "    <tr>\n",
       "      <th>58</th>\n",
       "      <td>Shinzo_Abe</td>\n",
       "      <td>2月24日</td>\n",
       "      <td>2013-02-25</td>\n",
       "      <td>▽13時34分　政府専用機で羽田空港着。▽14時8分　富ケ谷の私邸着。▽15時25分　渋谷の...</td>\n",
       "    </tr>\n",
       "    <tr>\n",
       "      <th>78</th>\n",
       "      <td>Shinzo_Abe</td>\n",
       "      <td>3月16日</td>\n",
       "      <td>2013-03-17</td>\n",
       "      <td>午前中は富ケ谷の私邸で過ごす。▽15時10分　党本部で参院選立候補予定者らに公認証渡し。▽...</td>\n",
       "    </tr>\n",
       "    <tr>\n",
       "      <th>100</th>\n",
       "      <td>Shinzo_Abe</td>\n",
       "      <td>4月7日</td>\n",
       "      <td>2013-04-08</td>\n",
       "      <td>午前中は富ケ谷の私邸で過ごす。▽12時38分　渋谷の美容室「ＨＡＩＲ　ＧＵＥＳＴ」で散髪。...</td>\n",
       "    </tr>\n",
       "    <tr>\n",
       "      <th>...</th>\n",
       "      <td>...</td>\n",
       "      <td>...</td>\n",
       "      <td>...</td>\n",
       "      <td>...</td>\n",
       "    </tr>\n",
       "    <tr>\n",
       "      <th>3689</th>\n",
       "      <td>Fumio_Kishida</td>\n",
       "      <td>5月6日</td>\n",
       "      <td>2023-05-07</td>\n",
       "      <td>午前中は来客なく、公邸で過ごす。▽13時28分　東京・鍛冶町の「ヘア　モード　キクチ神田日...</td>\n",
       "    </tr>\n",
       "    <tr>\n",
       "      <th>3710</th>\n",
       "      <td>Fumio_Kishida</td>\n",
       "      <td>5月27日</td>\n",
       "      <td>2023-05-28</td>\n",
       "      <td>午前中は来客なく、公邸で過ごす。▽13時42分　東京・平河町の砂防会館別館。46分　会議室...</td>\n",
       "    </tr>\n",
       "    <tr>\n",
       "      <th>3725</th>\n",
       "      <td>Fumio_Kishida</td>\n",
       "      <td>6月10日</td>\n",
       "      <td>2023-06-11</td>\n",
       "      <td>午前中は来客なく、公邸で過ごす。▽14時3分　東京・鍛冶町の「ヘア　モード　キクチ神田日銀...</td>\n",
       "    </tr>\n",
       "    <tr>\n",
       "      <th>3738</th>\n",
       "      <td>Fumio_Kishida</td>\n",
       "      <td>6月24日</td>\n",
       "      <td>2023-06-25</td>\n",
       "      <td>▽9時34分　公邸発。42分　東京・鍛冶町の「ヘア　モード　キクチ神田日銀通り店」。散髪。▽...</td>\n",
       "    </tr>\n",
       "    <tr>\n",
       "      <th>3752</th>\n",
       "      <td>Fumio_Kishida</td>\n",
       "      <td>7月8日</td>\n",
       "      <td>2023-07-09</td>\n",
       "      <td>▽10時43分　公邸発。53分　東京・芝公園の増上寺。故安倍晋三元首相の一周忌法要。▽11時...</td>\n",
       "    </tr>\n",
       "  </tbody>\n",
       "</table>\n",
       "<p>147 rows × 4 columns</p>\n",
       "</div>"
      ],
      "text/plain": [
       "                 PM   date publish_date  \\\n",
       "10       Shinzo_Abe   1月6日   2013-01-07   \n",
       "38       Shinzo_Abe   2月3日   2013-02-04   \n",
       "58       Shinzo_Abe  2月24日   2013-02-25   \n",
       "78       Shinzo_Abe  3月16日   2013-03-17   \n",
       "100      Shinzo_Abe   4月7日   2013-04-08   \n",
       "...             ...    ...          ...   \n",
       "3689  Fumio_Kishida   5月6日   2023-05-07   \n",
       "3710  Fumio_Kishida  5月27日   2023-05-28   \n",
       "3725  Fumio_Kishida  6月10日   2023-06-11   \n",
       "3738  Fumio_Kishida  6月24日   2023-06-25   \n",
       "3752  Fumio_Kishida   7月8日   2023-07-09   \n",
       "\n",
       "                                             activities  \n",
       "10    　午前中は富ケ谷の私邸で過ごす。▽13時30分　すしチェーン店「すしざんまい」経営の木村清「...  \n",
       "38    　午前中は富ケ谷の私邸で過ごす。▽12時56分　渋谷の美容室「ＨＡＩＲ　ＧＵＥＳＴ」で散髪。...  \n",
       "58    ▽13時34分　政府専用機で羽田空港着。▽14時8分　富ケ谷の私邸着。▽15時25分　渋谷の...  \n",
       "78    　午前中は富ケ谷の私邸で過ごす。▽15時10分　党本部で参院選立候補予定者らに公認証渡し。▽...  \n",
       "100   　午前中は富ケ谷の私邸で過ごす。▽12時38分　渋谷の美容室「ＨＡＩＲ　ＧＵＥＳＴ」で散髪。...  \n",
       "...                                                 ...  \n",
       "3689  　午前中は来客なく、公邸で過ごす。▽13時28分　東京・鍛冶町の「ヘア　モード　キクチ神田日...  \n",
       "3710  　午前中は来客なく、公邸で過ごす。▽13時42分　東京・平河町の砂防会館別館。46分　会議室...  \n",
       "3725  　午前中は来客なく、公邸で過ごす。▽14時3分　東京・鍛冶町の「ヘア　モード　キクチ神田日銀...  \n",
       "3738  ▽9時34分　公邸発。42分　東京・鍛冶町の「ヘア　モード　キクチ神田日銀通り店」。散髪。▽...  \n",
       "3752  ▽10時43分　公邸発。53分　東京・芝公園の増上寺。故安倍晋三元首相の一周忌法要。▽11時...  \n",
       "\n",
       "[147 rows x 4 columns]"
      ]
     },
     "execution_count": 6,
     "metadata": {},
     "output_type": "execute_result"
    }
   ],
   "source": [
    "filtered_df = df[df['activities'].str.contains(word)]\n",
    "filtered_df[['PM', 'date', 'publish_date', 'activities']].to_csv(f\"PM_activities{word}.csv\",encoding='UTF-8')\n",
    "filtered_df[['PM', 'date', 'publish_date', 'activities']]"
   ]
  },
  {
   "cell_type": "code",
   "execution_count": 7,
   "id": "b70d1413",
   "metadata": {},
   "outputs": [
    {
     "name": "stdout",
     "output_type": "stream",
     "text": [
      "散髪\n",
      "Shinzo_Abe: 93 times; 12.03/year\n",
      "Yoshihide_Suga:12 times; 11.41/year\n",
      "Fumio_Kishida:42 times; 24.14/year\n"
     ]
    }
   ],
   "source": [
    "abe_count = df[df['PM'] == 'Shinzo_Abe']['activities'].str.contains(word).sum() \n",
    "suga_count = df[df['PM'] == 'Yoshihide_Suga']['activities'].str.contains(word).sum() \n",
    "kishida_count = df[df['PM'] == 'Fumio_Kishida']['activities'].str.contains(word).sum() \n",
    "\n",
    "abe_freq = abe_count/abe_term_days *365\n",
    "suga_freq = suga_count/suga_term_days *365\n",
    "kishida_freq = kishida_count/kishida_term_days *365\n",
    "\n",
    "print(word)\n",
    "print(f\"Shinzo_Abe: {abe_count} times; {round(abe_freq,2)}/year\")\n",
    "print(f\"Yoshihide_Suga:{suga_count} times; {round(suga_freq,2)}/year\")\n",
    "print(f\"Fumio_Kishida:{kishida_count} times; {round(kishida_freq,2)}/year\")\n"
   ]
  },
  {
   "cell_type": "markdown",
   "id": "7dbe9bfe",
   "metadata": {},
   "source": [
    "散髪\n",
    "Shinzo_Abe: 93 times; 12.03/year\n",
    "Yoshihide_Suga:12 times; 11.41/year\n",
    "Fumio_Kishida:42 times; 24.14/year\n",
    "\n",
    "散歩\n",
    "Shinzo_Abe: 16 times; 2.07/year\n",
    "Yoshihide_Suga:199 times; 189.15/year\n",
    "Fumio_Kishida:0 times; 0.0/year\n",
    "\n",
    "マッサージ\n",
    "Shinzo_Abe: 1 times; 0.13/year\n",
    "Yoshihide_Suga:2 times; 1.9/year\n",
    "Fumio_Kishida:10 times; 5.75/year\n",
    "\n",
    "ゴルフ\n",
    "Shinzo_Abe: 107 times; 13.84/year\n",
    "Yoshihide_Suga:1 times; 0.95/year\n",
    "Fumio_Kishida:4 times; 2.3/year\n",
    "\n",
    "政府専用機\n",
    "Shinzo_Abe: 292 times; 37.77/year\n",
    "Yoshihide_Suga:13 times; 12.36/year\n",
    "Fumio_Kishida:56 times; 32.19/year\n",
    "\n",
    "インタビュー\n",
    "Shinzo_Abe: 751 times; 97.14/year\n",
    "Yoshihide_Suga:135 times; 128.32/year\n",
    "Fumio_Kishida:262 times; 150.6/year"
   ]
  },
  {
   "cell_type": "code",
   "execution_count": null,
   "id": "cfa604d4",
   "metadata": {},
   "outputs": [],
   "source": []
  }
 ],
 "metadata": {
  "kernelspec": {
   "display_name": "Python 3 (ipykernel)",
   "language": "python",
   "name": "python3"
  },
  "language_info": {
   "codemirror_mode": {
    "name": "ipython",
    "version": 3
   },
   "file_extension": ".py",
   "mimetype": "text/x-python",
   "name": "python",
   "nbconvert_exporter": "python",
   "pygments_lexer": "ipython3",
   "version": "3.10.11"
  }
 },
 "nbformat": 4,
 "nbformat_minor": 5
}
