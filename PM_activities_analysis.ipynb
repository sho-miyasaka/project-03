{
 "cells": [
  {
   "cell_type": "code",
   "execution_count": 1,
   "id": "74059b98",
   "metadata": {},
   "outputs": [],
   "source": [
    "import pandas as pd"
   ]
  },
  {
   "cell_type": "code",
   "execution_count": 2,
   "id": "f6ac3cc8",
   "metadata": {},
   "outputs": [],
   "source": [
    "df_date = pd.read_csv('date_data.csv')"
   ]
  },
  {
   "cell_type": "code",
   "execution_count": 3,
   "id": "cea10fd3",
   "metadata": {},
   "outputs": [],
   "source": [
    "df = pd.read_csv('df.csv')\n",
    "df = df.drop(columns=['Unnamed: 0', 'original'])"
   ]
  },
  {
   "cell_type": "code",
   "execution_count": 4,
   "id": "a4397d1f",
   "metadata": {},
   "outputs": [],
   "source": [
    "df['haircut'] = df['activities'].str.contains('散髪')\n",
    "df['walking'] = df['activities'].str.contains('散歩')\n",
    "df['golf'] = df['activities'].str.contains('ゴルフ')\n",
    "df['massage'] = df['activities'].str.contains('マッサージ')\n",
    "df['interview'] = df['activities'].str.contains('インタビュー')\n",
    "df['air_force_one'] = df['activities'].str.contains('政府専用機')"
   ]
  },
  {
   "cell_type": "code",
   "execution_count": 5,
   "id": "15726185",
   "metadata": {},
   "outputs": [
    {
     "data": {
      "text/html": [
       "<div>\n",
       "<style scoped>\n",
       "    .dataframe tbody tr th:only-of-type {\n",
       "        vertical-align: middle;\n",
       "    }\n",
       "\n",
       "    .dataframe tbody tr th {\n",
       "        vertical-align: top;\n",
       "    }\n",
       "\n",
       "    .dataframe thead th {\n",
       "        text-align: right;\n",
       "    }\n",
       "</style>\n",
       "<table border=\"1\" class=\"dataframe\">\n",
       "  <thead>\n",
       "    <tr style=\"text-align: right;\">\n",
       "      <th></th>\n",
       "      <th>PM</th>\n",
       "      <th>date</th>\n",
       "      <th>publish_date</th>\n",
       "      <th>activities</th>\n",
       "      <th>date_est</th>\n",
       "      <th>haircut</th>\n",
       "      <th>walking</th>\n",
       "      <th>golf</th>\n",
       "      <th>massage</th>\n",
       "      <th>interview</th>\n",
       "      <th>air_force_one</th>\n",
       "    </tr>\n",
       "  </thead>\n",
       "  <tbody>\n",
       "    <tr>\n",
       "      <th>0</th>\n",
       "      <td>Shinzo_Abe</td>\n",
       "      <td>12月26日</td>\n",
       "      <td>2012-12-27</td>\n",
       "      <td>〈26日〉▽18時22分　皇居で首相親任式、閣僚認証式。▽21時39分　官邸で記者会見。▽2...</td>\n",
       "      <td>2012-12-26</td>\n",
       "      <td>False</td>\n",
       "      <td>False</td>\n",
       "      <td>False</td>\n",
       "      <td>False</td>\n",
       "      <td>False</td>\n",
       "      <td>False</td>\n",
       "    </tr>\n",
       "    <tr>\n",
       "      <th>1</th>\n",
       "      <td>Shinzo_Abe</td>\n",
       "      <td>12月27日</td>\n",
       "      <td>2012-12-28</td>\n",
       "      <td>▽10時21分　官邸で菅官房長官、加藤官房副長官。▽11時29分　古屋拉致担当相、三谷拉致問...</td>\n",
       "      <td>2012-12-27</td>\n",
       "      <td>False</td>\n",
       "      <td>False</td>\n",
       "      <td>False</td>\n",
       "      <td>False</td>\n",
       "      <td>False</td>\n",
       "      <td>False</td>\n",
       "    </tr>\n",
       "    <tr>\n",
       "      <th>2</th>\n",
       "      <td>Shinzo_Abe</td>\n",
       "      <td>12月28日</td>\n",
       "      <td>2012-12-29</td>\n",
       "      <td>▽8時40分　富ケ谷の私邸発。▽9時1分　党本部で高村副総裁、石破幹事長。▽9時34分　官邸...</td>\n",
       "      <td>2012-12-28</td>\n",
       "      <td>False</td>\n",
       "      <td>False</td>\n",
       "      <td>False</td>\n",
       "      <td>False</td>\n",
       "      <td>False</td>\n",
       "      <td>False</td>\n",
       "    </tr>\n",
       "  </tbody>\n",
       "</table>\n",
       "</div>"
      ],
      "text/plain": [
       "           PM    date publish_date  \\\n",
       "0  Shinzo_Abe  12月26日   2012-12-27   \n",
       "1  Shinzo_Abe  12月27日   2012-12-28   \n",
       "2  Shinzo_Abe  12月28日   2012-12-29   \n",
       "\n",
       "                                          activities    date_est  haircut  \\\n",
       "0  〈26日〉▽18時22分　皇居で首相親任式、閣僚認証式。▽21時39分　官邸で記者会見。▽2...  2012-12-26    False   \n",
       "1  ▽10時21分　官邸で菅官房長官、加藤官房副長官。▽11時29分　古屋拉致担当相、三谷拉致問...  2012-12-27    False   \n",
       "2  ▽8時40分　富ケ谷の私邸発。▽9時1分　党本部で高村副総裁、石破幹事長。▽9時34分　官邸...  2012-12-28    False   \n",
       "\n",
       "   walking   golf  massage  interview  air_force_one  \n",
       "0    False  False    False      False          False  \n",
       "1    False  False    False      False          False  \n",
       "2    False  False    False      False          False  "
      ]
     },
     "execution_count": 5,
     "metadata": {},
     "output_type": "execute_result"
    }
   ],
   "source": [
    "df.head(3)"
   ]
  },
  {
   "cell_type": "code",
   "execution_count": 6,
   "id": "cb2c8acb",
   "metadata": {},
   "outputs": [],
   "source": [
    "#df_analysis = pd.merge(df_date, df, how='left', left_on=['date_est'], right_on = ['date_est'])\n",
    "df = df_date.merge(df, how='outer', on=['date_est','PM'])"
   ]
  },
  {
   "cell_type": "code",
   "execution_count": 7,
   "id": "f597d5da",
   "metadata": {
    "scrolled": false
   },
   "outputs": [],
   "source": [
    "abe_mask = (df['date_est'] >= \"2012-12-25\") & (df['date_est'] <= \"2020-09-15\")\n",
    "df.loc[abe_mask, 'PM'] = \"Shinzo_Abe\"\n",
    "suga_mask = (df['date_est'] >= \"2020-09-17\") & (df['date_est'] <= \"2021-10-03\")\n",
    "df.loc[suga_mask, 'PM'] = \"Yoshihide_Suga\"\n",
    "kishida_mask = (df['date_est'] >= \"2021-10-05\") & (df['date_est'] <= \"202307-13\") \n",
    "df.loc[kishida_mask, 'PM'] = \"Fumio_Kishida\"                       "
   ]
  },
  {
   "cell_type": "code",
   "execution_count": 8,
   "id": "648d171c",
   "metadata": {},
   "outputs": [],
   "source": [
    "df[['haircut', 'walking', 'golf', 'massage', 'interview', 'air_force_one']] = df[['haircut', 'walking', 'golf', 'massage', 'interview', 'air_force_one']].fillna(False)"
   ]
  },
  {
   "cell_type": "markdown",
   "id": "5108d39f",
   "metadata": {},
   "source": [
    "#missing_rows = df[df[\"year\"].isnull() | df[\"month\"].isnull() | df[\"day\"].isnull()]\n",
    "#print(missing_rows)\n",
    "        date_est  year  month  day  year_month yy_mm yy_mmm              PM  \\\n",
    "3876  2020-09-16   NaN    NaN  NaN         NaN   NaN    NaN      Shinzo_Abe   \n",
    "3877  2021-10-04   NaN    NaN  NaN         NaN   NaN    NaN  Yoshihide_Suga   \n",
    "\n",
    "       date publish_date                                         activities  \\\n",
    "3876  9月16日   2020-09-17  ▽8時42分　東京・富ケ谷の私邸発。55分　官邸。56分　報道各社のインタビュー。▽9時3分...   \n",
    "3877  10月4日   2021-10-05  ▽7時51分　東京・赤坂の衆院議員宿舎発。56分　官邸。敷地内を散歩。▽9時4分　臨時閣議。...   \n",
    "\n",
    "      haircut  walking   golf  massage  interview  air_force_one  \n",
    "3876    False    False  False    False       True          False  \n",
    "3877    False     True  False    False      False          False  "
   ]
  },
  {
   "cell_type": "code",
   "execution_count": 9,
   "id": "e0568f57",
   "metadata": {},
   "outputs": [
    {
     "data": {
      "text/html": [
       "<div>\n",
       "<style scoped>\n",
       "    .dataframe tbody tr th:only-of-type {\n",
       "        vertical-align: middle;\n",
       "    }\n",
       "\n",
       "    .dataframe tbody tr th {\n",
       "        vertical-align: top;\n",
       "    }\n",
       "\n",
       "    .dataframe thead th {\n",
       "        text-align: right;\n",
       "    }\n",
       "</style>\n",
       "<table border=\"1\" class=\"dataframe\">\n",
       "  <thead>\n",
       "    <tr style=\"text-align: right;\">\n",
       "      <th></th>\n",
       "      <th>date_est</th>\n",
       "      <th>year</th>\n",
       "      <th>month</th>\n",
       "      <th>day</th>\n",
       "      <th>year_month</th>\n",
       "      <th>yy_mm</th>\n",
       "      <th>yy_mmm</th>\n",
       "      <th>PM</th>\n",
       "      <th>date</th>\n",
       "      <th>publish_date</th>\n",
       "      <th>activities</th>\n",
       "      <th>haircut</th>\n",
       "      <th>walking</th>\n",
       "      <th>golf</th>\n",
       "      <th>massage</th>\n",
       "      <th>interview</th>\n",
       "      <th>air_force_one</th>\n",
       "    </tr>\n",
       "  </thead>\n",
       "  <tbody>\n",
       "    <tr>\n",
       "      <th>0</th>\n",
       "      <td>2012-12-26</td>\n",
       "      <td>2012</td>\n",
       "      <td>12</td>\n",
       "      <td>26</td>\n",
       "      <td>201212.0</td>\n",
       "      <td>2012-12</td>\n",
       "      <td>2012-Dec</td>\n",
       "      <td>Shinzo_Abe</td>\n",
       "      <td>12月26日</td>\n",
       "      <td>2012-12-27</td>\n",
       "      <td>〈26日〉▽18時22分　皇居で首相親任式、閣僚認証式。▽21時39分　官邸で記者会見。▽2...</td>\n",
       "      <td>False</td>\n",
       "      <td>False</td>\n",
       "      <td>False</td>\n",
       "      <td>False</td>\n",
       "      <td>False</td>\n",
       "      <td>False</td>\n",
       "    </tr>\n",
       "    <tr>\n",
       "      <th>1</th>\n",
       "      <td>2012-12-27</td>\n",
       "      <td>2012</td>\n",
       "      <td>12</td>\n",
       "      <td>27</td>\n",
       "      <td>201212.0</td>\n",
       "      <td>2012-12</td>\n",
       "      <td>2012-Dec</td>\n",
       "      <td>Shinzo_Abe</td>\n",
       "      <td>12月27日</td>\n",
       "      <td>2012-12-28</td>\n",
       "      <td>▽10時21分　官邸で菅官房長官、加藤官房副長官。▽11時29分　古屋拉致担当相、三谷拉致問...</td>\n",
       "      <td>False</td>\n",
       "      <td>False</td>\n",
       "      <td>False</td>\n",
       "      <td>False</td>\n",
       "      <td>False</td>\n",
       "      <td>False</td>\n",
       "    </tr>\n",
       "  </tbody>\n",
       "</table>\n",
       "</div>"
      ],
      "text/plain": [
       "     date_est  year  month  day  year_month    yy_mm    yy_mmm          PM  \\\n",
       "0  2012-12-26  2012     12   26    201212.0  2012-12  2012-Dec  Shinzo_Abe   \n",
       "1  2012-12-27  2012     12   27    201212.0  2012-12  2012-Dec  Shinzo_Abe   \n",
       "\n",
       "     date publish_date                                         activities  \\\n",
       "0  12月26日   2012-12-27  〈26日〉▽18時22分　皇居で首相親任式、閣僚認証式。▽21時39分　官邸で記者会見。▽2...   \n",
       "1  12月27日   2012-12-28  ▽10時21分　官邸で菅官房長官、加藤官房副長官。▽11時29分　古屋拉致担当相、三谷拉致問...   \n",
       "\n",
       "   haircut  walking   golf  massage  interview  air_force_one  \n",
       "0    False    False  False    False      False          False  \n",
       "1    False    False  False    False      False          False  "
      ]
     },
     "execution_count": 9,
     "metadata": {},
     "output_type": "execute_result"
    }
   ],
   "source": [
    "df[\"year\"] = df[\"year\"].fillna(0).astype(int)\n",
    "df[\"month\"] = df[\"month\"].fillna(0).astype(int)\n",
    "df[\"day\"] = df[\"day\"].fillna(0).astype(int)\n",
    "df.head(2)"
   ]
  },
  {
   "cell_type": "code",
   "execution_count": 10,
   "id": "7da82ab2",
   "metadata": {},
   "outputs": [],
   "source": [
    "df_visualize = df[['date_est', 'year_month','year', 'month', 'day', 'year_month', 'yy_mm', 'yy_mmm', 'PM', 'haircut', 'walking', 'golf', 'massage', 'interview', 'air_force_one', 'date', 'activities']]\n",
    "df_visualize[[\"haircut\", \"walking\", \"golf\", \"massage\", \"interview\", \"air_force_one\"]] = df_visualize[[\"haircut\", \"walking\", \"golf\", \"massage\", \"interview\", \"air_force_one\"]].replace({True: \"YES!\", False: \"No\"})"
   ]
  },
  {
   "cell_type": "code",
   "execution_count": 11,
   "id": "485c1014",
   "metadata": {},
   "outputs": [],
   "source": [
    "df_visualize.to_csv(\"df_visualize.csv\",encoding='UTF-8')"
   ]
  },
  {
   "cell_type": "code",
   "execution_count": 12,
   "id": "a3112cec",
   "metadata": {},
   "outputs": [],
   "source": [
    "df_abe = df_visualize[df_visualize['PM'] == 'Shinzo_Abe']\n",
    "df_abe.to_csv('df_abe.csv', index=False)"
   ]
  },
  {
   "cell_type": "code",
   "execution_count": 13,
   "id": "4705169c",
   "metadata": {},
   "outputs": [],
   "source": [
    "df_kishida = df_visualize[df_visualize['PM'] == 'Fumio_Kishida']\n",
    "df_kishida.to_csv('df_kishida.csv', index=False)"
   ]
  },
  {
   "cell_type": "code",
   "execution_count": 14,
   "id": "00d26f3f",
   "metadata": {},
   "outputs": [],
   "source": [
    "df_suga = df_visualize[df_visualize['PM'] == 'Yoshihide_Suga']\n",
    "df_suga.to_csv('df_suga.csv', index=False)"
   ]
  },
  {
   "cell_type": "code",
   "execution_count": null,
   "id": "ba5c3b65",
   "metadata": {},
   "outputs": [],
   "source": []
  },
  {
   "cell_type": "code",
   "execution_count": null,
   "id": "605e5927",
   "metadata": {},
   "outputs": [],
   "source": []
  }
 ],
 "metadata": {
  "kernelspec": {
   "display_name": "Python 3 (ipykernel)",
   "language": "python",
   "name": "python3"
  },
  "language_info": {
   "codemirror_mode": {
    "name": "ipython",
    "version": 3
   },
   "file_extension": ".py",
   "mimetype": "text/x-python",
   "name": "python",
   "nbconvert_exporter": "python",
   "pygments_lexer": "ipython3",
   "version": "3.10.11"
  }
 },
 "nbformat": 4,
 "nbformat_minor": 5
}
