{
 "cells": [
  {
   "cell_type": "code",
   "execution_count": 1,
   "id": "350f0060",
   "metadata": {},
   "outputs": [],
   "source": [
    "import pandas as pd\n",
    "import re\n"
   ]
  },
  {
   "cell_type": "markdown",
   "id": "1b8a3eef",
   "metadata": {},
   "source": [
    "# Kishida"
   ]
  },
  {
   "cell_type": "code",
   "execution_count": 2,
   "id": "0eb7869e",
   "metadata": {},
   "outputs": [],
   "source": [
    "file_path = 'kishida_before230630.txt'\n",
    "file_mode = 'r'\n",
    "\n",
    "file = open(file_path, file_mode, encoding='UTF-8')\n",
    "data = file.read()\n",
    "file.close()"
   ]
  },
  {
   "cell_type": "code",
   "execution_count": null,
   "id": "7598a786",
   "metadata": {},
   "outputs": [],
   "source": []
  },
  {
   "cell_type": "code",
   "execution_count": 3,
   "id": "ff94da4e",
   "metadata": {},
   "outputs": [],
   "source": [
    "data_cleaned = data.replace(\"１０月\",\"date10月\")\n",
    "data_cleaned = data_cleaned.replace(\"１１月\",\"date11月\")\n",
    "data_cleaned = data_cleaned.replace(\"１２月\",\"date12月\")\n",
    "data_cleaned = data_cleaned.replace(\"１月\",\"date1月\")\n",
    "data_cleaned = data_cleaned.replace(\"２月\",\"date2月\")\n",
    "data_cleaned = data_cleaned.replace(\"３月\",\"date3月\")\n",
    "data_cleaned = data_cleaned.replace(\"４月\",\"date4月\")\n",
    "data_cleaned = data_cleaned.replace(\"５月\",\"date5月\")\n",
    "data_cleaned = data_cleaned.replace(\"６月\",\"date6月\")\n",
    "data_cleaned = data_cleaned.replace(\"７月\",\"date7月\")\n",
    "data_cleaned = data_cleaned.replace(\"８月\",\"date8月\")"
   ]
  },
  {
   "cell_type": "code",
   "execution_count": 4,
   "id": "ba83e76d",
   "metadata": {},
   "outputs": [],
   "source": [
    "data_cleaned = data_cleaned.replace(\"１\",\"1\")\n",
    "data_cleaned = data_cleaned.replace(\"２\",\"2\")\n",
    "data_cleaned = data_cleaned.replace(\"３\",\"3\")\n",
    "data_cleaned = data_cleaned.replace(\"４\",\"4\")\n",
    "data_cleaned = data_cleaned.replace(\"５\",\"5\")\n",
    "data_cleaned = data_cleaned.replace(\"６\",\"6\")\n",
    "data_cleaned = data_cleaned.replace(\"７\",\"7\")\n",
    "data_cleaned = data_cleaned.replace(\"８\",\"8\")\n",
    "data_cleaned = data_cleaned.replace(\"９\",\"9\")\n",
    "data_cleaned = data_cleaned.replace(\"０\",\"0\")"
   ]
  },
  {
   "cell_type": "code",
   "execution_count": 5,
   "id": "381cc935",
   "metadata": {},
   "outputs": [],
   "source": [
    "kishida = data_cleaned.split(\"date\")"
   ]
  },
  {
   "cell_type": "code",
   "execution_count": 6,
   "id": "5a18f395",
   "metadata": {},
   "outputs": [
    {
     "name": "stdout",
     "output_type": "stream",
     "text": [
      "6月26日（首相官邸）\n",
      "2023/06/27 日本経済新聞　朝刊 4ページ 294文字 \n",
      "\n",
      "\n",
      "▽7時51分　公邸発。53分　東京・永田町のザ・キャピトルホテル東急。宴会場「桜・橘」で原田一之日本民営鉄道協会会長らとの勉強会。森昌文補佐官、藤井国交次官同席。\n",
      "\n",
      "▽9時8分　官邸。9分　報道各社のインタビュー。\n",
      "\n",
      "▽10時　尾身茂新型インフルエンザ等対策推進会議議長、岡部信彦川崎市健康安全研究所長、国立感染症研究所の斎藤智也感染症危機管理研究センター長。\n",
      "\n",
      "▽11時　土屋敏夫日本生活協同組合連合会会長ら。\n",
      "\n",
      "▽14時30分　福本拉致問題対策本部事務局長。\n",
      "\n",
      "▽16時37分　国際アビリンピック金メダリストの中川直樹氏への表彰。\n",
      "\n",
      "▽17時10分　米下院歳入委員会のニール議員らの表敬。\n",
      "\n",
      "▽18時3分　公邸。\n",
      "\n",
      "\n"
     ]
    }
   ],
   "source": [
    "print(kishida[5])"
   ]
  },
  {
   "cell_type": "code",
   "execution_count": 7,
   "id": "2aef0226",
   "metadata": {},
   "outputs": [],
   "source": [
    "df_kishida = pd.DataFrame(kishida)"
   ]
  },
  {
   "cell_type": "code",
   "execution_count": 8,
   "id": "c3e2eb67",
   "metadata": {},
   "outputs": [
    {
     "data": {
      "text/html": [
       "<div>\n",
       "<style scoped>\n",
       "    .dataframe tbody tr th:only-of-type {\n",
       "        vertical-align: middle;\n",
       "    }\n",
       "\n",
       "    .dataframe tbody tr th {\n",
       "        vertical-align: top;\n",
       "    }\n",
       "\n",
       "    .dataframe thead th {\n",
       "        text-align: right;\n",
       "    }\n",
       "</style>\n",
       "<table border=\"1\" class=\"dataframe\">\n",
       "  <thead>\n",
       "    <tr style=\"text-align: right;\">\n",
       "      <th></th>\n",
       "      <th>base</th>\n",
       "    </tr>\n",
       "  </thead>\n",
       "  <tbody>\n",
       "    <tr>\n",
       "      <th>0</th>\n",
       "      <td>﻿</td>\n",
       "    </tr>\n",
       "    <tr>\n",
       "      <th>1</th>\n",
       "      <td>6月30日（首相官邸）\\n2023/07/01 日本経済新聞　朝刊 4ページ 691文字 \\...</td>\n",
       "    </tr>\n",
       "    <tr>\n",
       "      <th>2</th>\n",
       "      <td>6月29日（首相官邸）\\n2023/06/30 日本経済新聞　朝刊 4ページ 310文字 \\...</td>\n",
       "    </tr>\n",
       "  </tbody>\n",
       "</table>\n",
       "</div>"
      ],
      "text/plain": [
       "                                                base\n",
       "0                                                  ﻿\n",
       "1  6月30日（首相官邸）\\n2023/07/01 日本経済新聞　朝刊 4ページ 691文字 \\...\n",
       "2  6月29日（首相官邸）\\n2023/06/30 日本経済新聞　朝刊 4ページ 310文字 \\..."
      ]
     },
     "execution_count": 8,
     "metadata": {},
     "output_type": "execute_result"
    }
   ],
   "source": [
    "df_kishida = df_kishida.rename(columns={0: 'base'})\n",
    "df_kishida.head(3)"
   ]
  },
  {
   "cell_type": "code",
   "execution_count": 9,
   "id": "c1204c00",
   "metadata": {},
   "outputs": [
    {
     "data": {
      "text/html": [
       "<div>\n",
       "<style scoped>\n",
       "    .dataframe tbody tr th:only-of-type {\n",
       "        vertical-align: middle;\n",
       "    }\n",
       "\n",
       "    .dataframe tbody tr th {\n",
       "        vertical-align: top;\n",
       "    }\n",
       "\n",
       "    .dataframe thead th {\n",
       "        text-align: right;\n",
       "    }\n",
       "</style>\n",
       "<table border=\"1\" class=\"dataframe\">\n",
       "  <thead>\n",
       "    <tr style=\"text-align: right;\">\n",
       "      <th></th>\n",
       "      <th>base</th>\n",
       "      <th>date</th>\n",
       "    </tr>\n",
       "  </thead>\n",
       "  <tbody>\n",
       "    <tr>\n",
       "      <th>0</th>\n",
       "      <td>﻿</td>\n",
       "      <td>﻿</td>\n",
       "    </tr>\n",
       "    <tr>\n",
       "      <th>1</th>\n",
       "      <td>6月30日（首相官邸）\\n2023/07/01 日本経済新聞　朝刊 4ページ 691文字 \\...</td>\n",
       "      <td>6月30日</td>\n",
       "    </tr>\n",
       "    <tr>\n",
       "      <th>2</th>\n",
       "      <td>6月29日（首相官邸）\\n2023/06/30 日本経済新聞　朝刊 4ページ 310文字 \\...</td>\n",
       "      <td>6月29日</td>\n",
       "    </tr>\n",
       "  </tbody>\n",
       "</table>\n",
       "</div>"
      ],
      "text/plain": [
       "                                                base   date\n",
       "0                                                  ﻿      ﻿\n",
       "1  6月30日（首相官邸）\\n2023/07/01 日本経済新聞　朝刊 4ページ 691文字 \\...  6月30日\n",
       "2  6月29日（首相官邸）\\n2023/06/30 日本経済新聞　朝刊 4ページ 310文字 \\...  6月29日"
      ]
     },
     "execution_count": 9,
     "metadata": {},
     "output_type": "execute_result"
    }
   ],
   "source": [
    "df_kishida[\"date\"] = (\n",
    "    df_kishida[\"base\"]\n",
    "    .str.split(\"（首相官邸）\\n\",expand=False)\n",
    "    .str.get(0)\n",
    ")\n",
    "\n",
    "\n",
    "df_kishida.head(3)"
   ]
  },
  {
   "cell_type": "code",
   "execution_count": 10,
   "id": "d1ad2dac",
   "metadata": {},
   "outputs": [
    {
     "data": {
      "text/html": [
       "<div>\n",
       "<style scoped>\n",
       "    .dataframe tbody tr th:only-of-type {\n",
       "        vertical-align: middle;\n",
       "    }\n",
       "\n",
       "    .dataframe tbody tr th {\n",
       "        vertical-align: top;\n",
       "    }\n",
       "\n",
       "    .dataframe thead th {\n",
       "        text-align: right;\n",
       "    }\n",
       "</style>\n",
       "<table border=\"1\" class=\"dataframe\">\n",
       "  <thead>\n",
       "    <tr style=\"text-align: right;\">\n",
       "      <th></th>\n",
       "      <th>base</th>\n",
       "      <th>date</th>\n",
       "      <th>publish_date</th>\n",
       "    </tr>\n",
       "  </thead>\n",
       "  <tbody>\n",
       "    <tr>\n",
       "      <th>0</th>\n",
       "      <td>﻿</td>\n",
       "      <td>﻿</td>\n",
       "      <td>NaN</td>\n",
       "    </tr>\n",
       "    <tr>\n",
       "      <th>1</th>\n",
       "      <td>6月30日（首相官邸）\\n2023/07/01 日本経済新聞　朝刊 4ページ 691文字 \\...</td>\n",
       "      <td>6月30日</td>\n",
       "      <td>2023/07/01</td>\n",
       "    </tr>\n",
       "    <tr>\n",
       "      <th>2</th>\n",
       "      <td>6月29日（首相官邸）\\n2023/06/30 日本経済新聞　朝刊 4ページ 310文字 \\...</td>\n",
       "      <td>6月29日</td>\n",
       "      <td>2023/06/30</td>\n",
       "    </tr>\n",
       "  </tbody>\n",
       "</table>\n",
       "</div>"
      ],
      "text/plain": [
       "                                                base   date publish_date\n",
       "0                                                  ﻿      ﻿          NaN\n",
       "1  6月30日（首相官邸）\\n2023/07/01 日本経済新聞　朝刊 4ページ 691文字 \\...  6月30日   2023/07/01\n",
       "2  6月29日（首相官邸）\\n2023/06/30 日本経済新聞　朝刊 4ページ 310文字 \\...  6月29日   2023/06/30"
      ]
     },
     "execution_count": 10,
     "metadata": {},
     "output_type": "execute_result"
    }
   ],
   "source": [
    "df_kishida[\"publish_date\"]  = (\n",
    "    df_kishida[\"base\"]\n",
    "    .str.extract(r\"(\\d\\d\\d\\d/\\d\\d/\\d\\d)\", expand=False)\n",
    ")\n",
    "df_kishida.head(3)"
   ]
  },
  {
   "cell_type": "code",
   "execution_count": null,
   "id": "ba51500c",
   "metadata": {},
   "outputs": [],
   "source": []
  },
  {
   "cell_type": "code",
   "execution_count": 11,
   "id": "1d26ce7f",
   "metadata": {},
   "outputs": [
    {
     "data": {
      "text/html": [
       "<div>\n",
       "<style scoped>\n",
       "    .dataframe tbody tr th:only-of-type {\n",
       "        vertical-align: middle;\n",
       "    }\n",
       "\n",
       "    .dataframe tbody tr th {\n",
       "        vertical-align: top;\n",
       "    }\n",
       "\n",
       "    .dataframe thead th {\n",
       "        text-align: right;\n",
       "    }\n",
       "</style>\n",
       "<table border=\"1\" class=\"dataframe\">\n",
       "  <thead>\n",
       "    <tr style=\"text-align: right;\">\n",
       "      <th></th>\n",
       "      <th>base</th>\n",
       "      <th>date</th>\n",
       "      <th>publish_date</th>\n",
       "      <th>activities</th>\n",
       "    </tr>\n",
       "  </thead>\n",
       "  <tbody>\n",
       "    <tr>\n",
       "      <th>0</th>\n",
       "      <td>﻿</td>\n",
       "      <td>﻿</td>\n",
       "      <td>NaN</td>\n",
       "      <td>NaN</td>\n",
       "    </tr>\n",
       "    <tr>\n",
       "      <th>1</th>\n",
       "      <td>6月30日（首相官邸）\\n2023/07/01 日本経済新聞　朝刊 4ページ 691文字 \\...</td>\n",
       "      <td>6月30日</td>\n",
       "      <td>2023/07/01</td>\n",
       "      <td>\\n\\n\\n▽9時18分　公邸から官邸。24分　林外相、野村農相、西村経産相、西村環境相、...</td>\n",
       "    </tr>\n",
       "    <tr>\n",
       "      <th>2</th>\n",
       "      <td>6月29日（首相官邸）\\n2023/06/30 日本経済新聞　朝刊 4ページ 310文字 \\...</td>\n",
       "      <td>6月29日</td>\n",
       "      <td>2023/06/30</td>\n",
       "      <td>\\n\\n\\n▽9時57分　公邸から官邸。\\n\\n▽10時5分　木原官房副長官、藤井、岡野両...</td>\n",
       "    </tr>\n",
       "  </tbody>\n",
       "</table>\n",
       "</div>"
      ],
      "text/plain": [
       "                                                base   date publish_date  \\\n",
       "0                                                  ﻿      ﻿          NaN   \n",
       "1  6月30日（首相官邸）\\n2023/07/01 日本経済新聞　朝刊 4ページ 691文字 \\...  6月30日   2023/07/01   \n",
       "2  6月29日（首相官邸）\\n2023/06/30 日本経済新聞　朝刊 4ページ 310文字 \\...  6月29日   2023/06/30   \n",
       "\n",
       "                                          activities  \n",
       "0                                                NaN  \n",
       "1   \\n\\n\\n▽9時18分　公邸から官邸。24分　林外相、野村農相、西村経産相、西村環境相、...  \n",
       "2   \\n\\n\\n▽9時57分　公邸から官邸。\\n\\n▽10時5分　木原官房副長官、藤井、岡野両...  "
      ]
     },
     "execution_count": 11,
     "metadata": {},
     "output_type": "execute_result"
    }
   ],
   "source": [
    "df_kishida[\"activities\"] = (\n",
    "    df_kishida[\"base\"]\n",
    "    .str.split(\"文字\",expand=False)\n",
    "    .str.get(1)\n",
    ")\n",
    "\n",
    "\n",
    "df_kishida.head(3)"
   ]
  },
  {
   "cell_type": "code",
   "execution_count": 12,
   "id": "14fec49e",
   "metadata": {},
   "outputs": [
    {
     "data": {
      "text/html": [
       "<div>\n",
       "<style scoped>\n",
       "    .dataframe tbody tr th:only-of-type {\n",
       "        vertical-align: middle;\n",
       "    }\n",
       "\n",
       "    .dataframe tbody tr th {\n",
       "        vertical-align: top;\n",
       "    }\n",
       "\n",
       "    .dataframe thead th {\n",
       "        text-align: right;\n",
       "    }\n",
       "</style>\n",
       "<table border=\"1\" class=\"dataframe\">\n",
       "  <thead>\n",
       "    <tr style=\"text-align: right;\">\n",
       "      <th></th>\n",
       "      <th>base</th>\n",
       "      <th>date</th>\n",
       "      <th>publish_date</th>\n",
       "      <th>activities</th>\n",
       "    </tr>\n",
       "  </thead>\n",
       "  <tbody>\n",
       "    <tr>\n",
       "      <th>1</th>\n",
       "      <td>6月30日（首相官邸）\\n2023/07/01 日本経済新聞　朝刊 4ページ 691文字 \\...</td>\n",
       "      <td>6月30日</td>\n",
       "      <td>2023/07/01</td>\n",
       "      <td>\\n\\n\\n▽9時18分　公邸から官邸。24分　林外相、野村農相、西村経産相、西村環境相、...</td>\n",
       "    </tr>\n",
       "    <tr>\n",
       "      <th>2</th>\n",
       "      <td>6月29日（首相官邸）\\n2023/06/30 日本経済新聞　朝刊 4ページ 310文字 \\...</td>\n",
       "      <td>6月29日</td>\n",
       "      <td>2023/06/30</td>\n",
       "      <td>\\n\\n\\n▽9時57分　公邸から官邸。\\n\\n▽10時5分　木原官房副長官、藤井、岡野両...</td>\n",
       "    </tr>\n",
       "    <tr>\n",
       "      <th>3</th>\n",
       "      <td>6月28日（首相官邸）\\n2023/06/29 日本経済新聞　朝刊 4ページ 361文字 \\...</td>\n",
       "      <td>6月28日</td>\n",
       "      <td>2023/06/29</td>\n",
       "      <td>\\n\\n\\n▽10時12分　公邸から官邸。14分　永岡文科相。49分　亀岡偉民衆院議員。\\...</td>\n",
       "    </tr>\n",
       "  </tbody>\n",
       "</table>\n",
       "</div>"
      ],
      "text/plain": [
       "                                                base   date publish_date  \\\n",
       "1  6月30日（首相官邸）\\n2023/07/01 日本経済新聞　朝刊 4ページ 691文字 \\...  6月30日   2023/07/01   \n",
       "2  6月29日（首相官邸）\\n2023/06/30 日本経済新聞　朝刊 4ページ 310文字 \\...  6月29日   2023/06/30   \n",
       "3  6月28日（首相官邸）\\n2023/06/29 日本経済新聞　朝刊 4ページ 361文字 \\...  6月28日   2023/06/29   \n",
       "\n",
       "                                          activities  \n",
       "1   \\n\\n\\n▽9時18分　公邸から官邸。24分　林外相、野村農相、西村経産相、西村環境相、...  \n",
       "2   \\n\\n\\n▽9時57分　公邸から官邸。\\n\\n▽10時5分　木原官房副長官、藤井、岡野両...  \n",
       "3   \\n\\n\\n▽10時12分　公邸から官邸。14分　永岡文科相。49分　亀岡偉民衆院議員。\\...  "
      ]
     },
     "execution_count": 12,
     "metadata": {},
     "output_type": "execute_result"
    }
   ],
   "source": [
    "df_kishida = df_kishida.drop(0, axis=0)\n",
    "df_kishida.head(3)"
   ]
  },
  {
   "cell_type": "code",
   "execution_count": 13,
   "id": "2e06609d",
   "metadata": {},
   "outputs": [
    {
     "data": {
      "text/html": [
       "<div>\n",
       "<style scoped>\n",
       "    .dataframe tbody tr th:only-of-type {\n",
       "        vertical-align: middle;\n",
       "    }\n",
       "\n",
       "    .dataframe tbody tr th {\n",
       "        vertical-align: top;\n",
       "    }\n",
       "\n",
       "    .dataframe thead th {\n",
       "        text-align: right;\n",
       "    }\n",
       "</style>\n",
       "<table border=\"1\" class=\"dataframe\">\n",
       "  <thead>\n",
       "    <tr style=\"text-align: right;\">\n",
       "      <th></th>\n",
       "      <th>base</th>\n",
       "      <th>date</th>\n",
       "      <th>publish_date</th>\n",
       "      <th>activities</th>\n",
       "    </tr>\n",
       "  </thead>\n",
       "  <tbody>\n",
       "    <tr>\n",
       "      <th>1</th>\n",
       "      <td>6月30日（首相官邸）\\n2023/07/01 日本経済新聞　朝刊 4ページ 691文字 \\...</td>\n",
       "      <td>6月30日</td>\n",
       "      <td>2023/07/01</td>\n",
       "      <td>\\n\\n\\n▽9時18分　公邸から官邸。24分　林外相、野村農相、西村経産相、西村環境相、...</td>\n",
       "    </tr>\n",
       "    <tr>\n",
       "      <th>2</th>\n",
       "      <td>6月29日（首相官邸）\\n2023/06/30 日本経済新聞　朝刊 4ページ 310文字 \\...</td>\n",
       "      <td>6月29日</td>\n",
       "      <td>2023/06/30</td>\n",
       "      <td>\\n\\n\\n▽9時57分　公邸から官邸。\\n\\n▽10時5分　木原官房副長官、藤井、岡野両...</td>\n",
       "    </tr>\n",
       "    <tr>\n",
       "      <th>3</th>\n",
       "      <td>6月28日（首相官邸）\\n2023/06/29 日本経済新聞　朝刊 4ページ 361文字 \\...</td>\n",
       "      <td>6月28日</td>\n",
       "      <td>2023/06/29</td>\n",
       "      <td>\\n\\n\\n▽10時12分　公邸から官邸。14分　永岡文科相。49分　亀岡偉民衆院議員。\\...</td>\n",
       "    </tr>\n",
       "    <tr>\n",
       "      <th>4</th>\n",
       "      <td>6月27日（首相官邸）\\n2023/06/28 日本経済新聞　朝刊 4ページ 458文字 \\...</td>\n",
       "      <td>6月27日</td>\n",
       "      <td>2023/06/28</td>\n",
       "      <td>\\n\\n\\n▽9時26分　公邸発。28分　党本部。30分　党役員会。56分　官邸。\\n\\n...</td>\n",
       "    </tr>\n",
       "    <tr>\n",
       "      <th>5</th>\n",
       "      <td>6月26日（首相官邸）\\n2023/06/27 日本経済新聞　朝刊 4ページ 294文字 \\...</td>\n",
       "      <td>6月26日</td>\n",
       "      <td>2023/06/27</td>\n",
       "      <td>\\n\\n\\n▽7時51分　公邸発。53分　東京・永田町のザ・キャピトルホテル東急。宴会場「...</td>\n",
       "    </tr>\n",
       "    <tr>\n",
       "      <th>...</th>\n",
       "      <td>...</td>\n",
       "      <td>...</td>\n",
       "      <td>...</td>\n",
       "      <td>...</td>\n",
       "    </tr>\n",
       "    <tr>\n",
       "      <th>588</th>\n",
       "      <td>10月8日（首相官邸）\\n2021/10/09 日本経済新聞　朝刊 4ページ 554文字 \\...</td>\n",
       "      <td>10月8日</td>\n",
       "      <td>2021/10/09</td>\n",
       "      <td>\\n\\n\\n▽0時45分　二之湯防災相、木原、磯崎、栗生各官房副長官、沖田内閣危機管理監、...</td>\n",
       "    </tr>\n",
       "    <tr>\n",
       "      <th>589</th>\n",
       "      <td>10月7日（首相官邸）\\n2021/10/08 日本経済新聞　朝刊 4ページ 516文字 \\...</td>\n",
       "      <td>10月7日</td>\n",
       "      <td>2021/10/08</td>\n",
       "      <td>\\n\\n\\n▽8時21分　東京・赤坂の衆院議員宿舎発。24分　官邸。\\n\\n▽9時　高市政...</td>\n",
       "    </tr>\n",
       "    <tr>\n",
       "      <th>590</th>\n",
       "      <td>10月6日（首相官邸）\\n2021/10/07 日本経済新聞　朝刊 4ページ 342文字 \\...</td>\n",
       "      <td>10月6日</td>\n",
       "      <td>2021/10/07</td>\n",
       "      <td>\\n\\n\\n▽9時8分　東京・赤坂の衆院議員宿舎発。22分　東京・三番町の宮内庁分庁舎。就...</td>\n",
       "    </tr>\n",
       "    <tr>\n",
       "      <th>591</th>\n",
       "      <td>10月5日（首相官邸）\\n2021/10/06 日本経済新聞　朝刊 4ページ 395文字 \\...</td>\n",
       "      <td>10月5日</td>\n",
       "      <td>2021/10/06</td>\n",
       "      <td>\\n\\n\\n▽7時27分　東京・赤坂の衆院議員宿舎発。31分　官邸。\\n\\n▽8時15分　...</td>\n",
       "    </tr>\n",
       "    <tr>\n",
       "      <th>592</th>\n",
       "      <td>10月4日（首相官邸）\\n2021/10/05 日本経済新聞　朝刊 4ページ 413文字 \\...</td>\n",
       "      <td>10月4日</td>\n",
       "      <td>2021/10/05</td>\n",
       "      <td>\\n\\n\\n〔岸田文雄氏〕\\n▽14時2分　衆院の正副議長、議運委員長、与野党各会派にあい...</td>\n",
       "    </tr>\n",
       "  </tbody>\n",
       "</table>\n",
       "<p>592 rows × 4 columns</p>\n",
       "</div>"
      ],
      "text/plain": [
       "                                                  base   date publish_date  \\\n",
       "1    6月30日（首相官邸）\\n2023/07/01 日本経済新聞　朝刊 4ページ 691文字 \\...  6月30日   2023/07/01   \n",
       "2    6月29日（首相官邸）\\n2023/06/30 日本経済新聞　朝刊 4ページ 310文字 \\...  6月29日   2023/06/30   \n",
       "3    6月28日（首相官邸）\\n2023/06/29 日本経済新聞　朝刊 4ページ 361文字 \\...  6月28日   2023/06/29   \n",
       "4    6月27日（首相官邸）\\n2023/06/28 日本経済新聞　朝刊 4ページ 458文字 \\...  6月27日   2023/06/28   \n",
       "5    6月26日（首相官邸）\\n2023/06/27 日本経済新聞　朝刊 4ページ 294文字 \\...  6月26日   2023/06/27   \n",
       "..                                                 ...    ...          ...   \n",
       "588  10月8日（首相官邸）\\n2021/10/09 日本経済新聞　朝刊 4ページ 554文字 \\...  10月8日   2021/10/09   \n",
       "589  10月7日（首相官邸）\\n2021/10/08 日本経済新聞　朝刊 4ページ 516文字 \\...  10月7日   2021/10/08   \n",
       "590  10月6日（首相官邸）\\n2021/10/07 日本経済新聞　朝刊 4ページ 342文字 \\...  10月6日   2021/10/07   \n",
       "591  10月5日（首相官邸）\\n2021/10/06 日本経済新聞　朝刊 4ページ 395文字 \\...  10月5日   2021/10/06   \n",
       "592  10月4日（首相官邸）\\n2021/10/05 日本経済新聞　朝刊 4ページ 413文字 \\...  10月4日   2021/10/05   \n",
       "\n",
       "                                            activities  \n",
       "1     \\n\\n\\n▽9時18分　公邸から官邸。24分　林外相、野村農相、西村経産相、西村環境相、...  \n",
       "2     \\n\\n\\n▽9時57分　公邸から官邸。\\n\\n▽10時5分　木原官房副長官、藤井、岡野両...  \n",
       "3     \\n\\n\\n▽10時12分　公邸から官邸。14分　永岡文科相。49分　亀岡偉民衆院議員。\\...  \n",
       "4     \\n\\n\\n▽9時26分　公邸発。28分　党本部。30分　党役員会。56分　官邸。\\n\\n...  \n",
       "5     \\n\\n\\n▽7時51分　公邸発。53分　東京・永田町のザ・キャピトルホテル東急。宴会場「...  \n",
       "..                                                 ...  \n",
       "588   \\n\\n\\n▽0時45分　二之湯防災相、木原、磯崎、栗生各官房副長官、沖田内閣危機管理監、...  \n",
       "589   \\n\\n\\n▽8時21分　東京・赤坂の衆院議員宿舎発。24分　官邸。\\n\\n▽9時　高市政...  \n",
       "590   \\n\\n\\n▽9時8分　東京・赤坂の衆院議員宿舎発。22分　東京・三番町の宮内庁分庁舎。就...  \n",
       "591   \\n\\n\\n▽7時27分　東京・赤坂の衆院議員宿舎発。31分　官邸。\\n\\n▽8時15分　...  \n",
       "592   \\n\\n\\n〔岸田文雄氏〕\\n▽14時2分　衆院の正副議長、議運委員長、与野党各会派にあい...  \n",
       "\n",
       "[592 rows x 4 columns]"
      ]
     },
     "execution_count": 13,
     "metadata": {},
     "output_type": "execute_result"
    }
   ],
   "source": [
    "df_kishida = df_kishida.replace('', pd.NA)\n",
    "df_kishida"
   ]
  },
  {
   "cell_type": "code",
   "execution_count": 14,
   "id": "a33e5603",
   "metadata": {},
   "outputs": [
    {
     "ename": "ValueError",
     "evalue": "Cannot mask with non-boolean array containing NA / NaN values",
     "output_type": "error",
     "traceback": [
      "\u001b[0;31m---------------------------------------------------------------------------\u001b[0m",
      "\u001b[0;31mValueError\u001b[0m                                Traceback (most recent call last)",
      "Cell \u001b[0;32mIn[14], line 1\u001b[0m\n\u001b[0;32m----> 1\u001b[0m filtered_df \u001b[38;5;241m=\u001b[39m \u001b[43mdf_kishida\u001b[49m\u001b[43m[\u001b[49m\u001b[43mdf_kishida\u001b[49m\u001b[43m[\u001b[49m\u001b[38;5;124;43m'\u001b[39;49m\u001b[38;5;124;43mactivities\u001b[39;49m\u001b[38;5;124;43m'\u001b[39;49m\u001b[43m]\u001b[49m\u001b[38;5;241;43m.\u001b[39;49m\u001b[43mstr\u001b[49m\u001b[38;5;241;43m.\u001b[39;49m\u001b[43mcontains\u001b[49m\u001b[43m(\u001b[49m\u001b[38;5;124;43m'\u001b[39;49m\u001b[38;5;124;43m木原\u001b[39;49m\u001b[38;5;124;43m'\u001b[39;49m\u001b[43m)\u001b[49m\u001b[43m]\u001b[49m\u001b[38;5;241m.\u001b[39mcopy()\n",
      "File \u001b[0;32m~/.pyenv/versions/3.10.11/lib/python3.10/site-packages/pandas/core/frame.py:3751\u001b[0m, in \u001b[0;36mDataFrame.__getitem__\u001b[0;34m(self, key)\u001b[0m\n\u001b[1;32m   3748\u001b[0m     \u001b[38;5;28;01mreturn\u001b[39;00m \u001b[38;5;28mself\u001b[39m\u001b[38;5;241m.\u001b[39mwhere(key)\n\u001b[1;32m   3750\u001b[0m \u001b[38;5;66;03m# Do we have a (boolean) 1d indexer?\u001b[39;00m\n\u001b[0;32m-> 3751\u001b[0m \u001b[38;5;28;01mif\u001b[39;00m \u001b[43mcom\u001b[49m\u001b[38;5;241;43m.\u001b[39;49m\u001b[43mis_bool_indexer\u001b[49m\u001b[43m(\u001b[49m\u001b[43mkey\u001b[49m\u001b[43m)\u001b[49m:\n\u001b[1;32m   3752\u001b[0m     \u001b[38;5;28;01mreturn\u001b[39;00m \u001b[38;5;28mself\u001b[39m\u001b[38;5;241m.\u001b[39m_getitem_bool_array(key)\n\u001b[1;32m   3754\u001b[0m \u001b[38;5;66;03m# We are left with two options: a single key, and a collection of keys,\u001b[39;00m\n\u001b[1;32m   3755\u001b[0m \u001b[38;5;66;03m# We interpret tuples as collections only for non-MultiIndex\u001b[39;00m\n",
      "File \u001b[0;32m~/.pyenv/versions/3.10.11/lib/python3.10/site-packages/pandas/core/common.py:134\u001b[0m, in \u001b[0;36mis_bool_indexer\u001b[0;34m(key)\u001b[0m\n\u001b[1;32m    130\u001b[0m     na_msg \u001b[38;5;241m=\u001b[39m \u001b[38;5;124m\"\u001b[39m\u001b[38;5;124mCannot mask with non-boolean array containing NA / NaN values\u001b[39m\u001b[38;5;124m\"\u001b[39m\n\u001b[1;32m    131\u001b[0m     \u001b[38;5;28;01mif\u001b[39;00m lib\u001b[38;5;241m.\u001b[39minfer_dtype(key_array) \u001b[38;5;241m==\u001b[39m \u001b[38;5;124m\"\u001b[39m\u001b[38;5;124mboolean\u001b[39m\u001b[38;5;124m\"\u001b[39m \u001b[38;5;129;01mand\u001b[39;00m isna(key_array)\u001b[38;5;241m.\u001b[39many():\n\u001b[1;32m    132\u001b[0m         \u001b[38;5;66;03m# Don't raise on e.g. [\"A\", \"B\", np.nan], see\u001b[39;00m\n\u001b[1;32m    133\u001b[0m         \u001b[38;5;66;03m#  test_loc_getitem_list_of_labels_categoricalindex_with_na\u001b[39;00m\n\u001b[0;32m--> 134\u001b[0m         \u001b[38;5;28;01mraise\u001b[39;00m \u001b[38;5;167;01mValueError\u001b[39;00m(na_msg)\n\u001b[1;32m    135\u001b[0m     \u001b[38;5;28;01mreturn\u001b[39;00m \u001b[38;5;28;01mFalse\u001b[39;00m\n\u001b[1;32m    136\u001b[0m \u001b[38;5;28;01mreturn\u001b[39;00m \u001b[38;5;28;01mTrue\u001b[39;00m\n",
      "\u001b[0;31mValueError\u001b[0m: Cannot mask with non-boolean array containing NA / NaN values"
     ]
    }
   ],
   "source": [
    "#filtered_df = df_kishida[df_kishida['activities'].str.contains('木原')].copy()"
   ]
  },
  {
   "cell_type": "code",
   "execution_count": 16,
   "id": "b853a7ae",
   "metadata": {},
   "outputs": [
    {
     "name": "stdout",
     "output_type": "stream",
     "text": [
      "Index([59, 61, 62, 297, 299, 300, 565], dtype='int64')\n"
     ]
    }
   ],
   "source": [
    "# 欠損値のある行の番号を取得\n",
    "missing_rows = df_kishida.index[df_kishida.isna().any(axis=1)]\n",
    "\n",
    "# 結果の表示\n",
    "print(missing_rows)"
   ]
  },
  {
   "cell_type": "code",
   "execution_count": 18,
   "id": "d9773602",
   "metadata": {},
   "outputs": [
    {
     "name": "stdout",
     "output_type": "stream",
     "text": [
      "base            4月30日・\n",
      "date            4月30日・\n",
      "publish_date       NaN\n",
      "activities         NaN\n",
      "Name: 59, dtype: object\n"
     ]
    }
   ],
   "source": [
    "row_59 = df_kishida.iloc[58]  # 行番号は0から始まるため、59行目はインデックス58となります\n",
    "print(row_59)"
   ]
  },
  {
   "cell_type": "code",
   "execution_count": 19,
   "id": "7b66ab0b",
   "metadata": {},
   "outputs": [
    {
     "name": "stdout",
     "output_type": "stream",
     "text": [
      "base            5月1日（首相官邸）\\n2023/05/02 日本経済新聞　朝刊 4ページ 200文字 \\n...\n",
      "date                                                         5月1日\n",
      "publish_date                                           2023/05/02\n",
      "activities                                        \\n\\n\\n（現地時間）\\n〈\n",
      "Name: 60, dtype: object\n"
     ]
    }
   ],
   "source": [
    "row_59 = df_kishida.iloc[59]  # 行番号は0から始まるため、59行目はインデックス58となります\n",
    "print(row_59)"
   ]
  },
  {
   "cell_type": "code",
   "execution_count": 20,
   "id": "f6118ae8",
   "metadata": {},
   "outputs": [],
   "source": [
    "df_kishida.to_csv('df_kishida_csv_out.csv')"
   ]
  },
  {
   "cell_type": "code",
   "execution_count": null,
   "id": "b92db536",
   "metadata": {},
   "outputs": [],
   "source": []
  }
 ],
 "metadata": {
  "kernelspec": {
   "display_name": "Python 3 (ipykernel)",
   "language": "python",
   "name": "python3"
  },
  "language_info": {
   "codemirror_mode": {
    "name": "ipython",
    "version": 3
   },
   "file_extension": ".py",
   "mimetype": "text/x-python",
   "name": "python",
   "nbconvert_exporter": "python",
   "pygments_lexer": "ipython3",
   "version": "3.10.11"
  }
 },
 "nbformat": 4,
 "nbformat_minor": 5
}
