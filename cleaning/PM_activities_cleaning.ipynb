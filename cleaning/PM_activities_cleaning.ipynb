{
 "cells": [
  {
   "cell_type": "code",
   "execution_count": 1,
   "id": "1776a69c",
   "metadata": {},
   "outputs": [],
   "source": [
    "import pandas as pd\n",
    "import re"
   ]
  },
  {
   "cell_type": "code",
   "execution_count": 2,
   "id": "c759a8c7",
   "metadata": {},
   "outputs": [],
   "source": [
    "file_path = 'kishida_230713.txt'\n",
    "file_mode = 'r'\n",
    "\n",
    "file = open(file_path, file_mode, encoding='UTF-8')\n",
    "data = file.read()\n",
    "file.close()"
   ]
  },
  {
   "cell_type": "code",
   "execution_count": 3,
   "id": "d7a2c085",
   "metadata": {},
   "outputs": [],
   "source": [
    "data_cleaned = data.replace(\"１\",\"1\")\n",
    "data_cleaned = data_cleaned.replace(\"２\",\"2\")\n",
    "data_cleaned = data_cleaned.replace(\"３\",\"3\")\n",
    "data_cleaned = data_cleaned.replace(\"４\",\"4\")\n",
    "data_cleaned = data_cleaned.replace(\"５\",\"5\")\n",
    "data_cleaned = data_cleaned.replace(\"６\",\"6\")\n",
    "data_cleaned = data_cleaned.replace(\"７\",\"7\")\n",
    "data_cleaned = data_cleaned.replace(\"８\",\"8\")\n",
    "data_cleaned = data_cleaned.replace(\"９\",\"9\")\n",
    "data_cleaned = data_cleaned.replace(\"０\",\"0\")"
   ]
  },
  {
   "cell_type": "code",
   "execution_count": 4,
   "id": "c318be91",
   "metadata": {},
   "outputs": [],
   "source": [
    "splited = data_cleaned.split(\"印刷対象にする\")"
   ]
  },
  {
   "cell_type": "code",
   "execution_count": 5,
   "id": "0d2c2571",
   "metadata": {},
   "outputs": [
    {
     "name": "stdout",
     "output_type": "stream",
     "text": [
      "\n",
      "7月14日（首相官邸）\n",
      "2023/07/15 日本経済新聞　朝刊 4ページ 489文字 \n",
      "その他の書誌情報を表示\n",
      "\n",
      "▽12時32分　欧州での北大西洋条約機構（ＮＡＴＯ）首脳会議、欧州連合（ＥＵ）定期首脳協議出席を終え、裕子夫人と共に政府専用機で羽田空港。\n",
      "\n",
      "▽13時10分　皇居。帰国の記帳。29分　官邸。\n",
      "\n",
      "▽14時　後藤経財相、江島財務省関税局長、水野農水省輸出・国際局長、松尾経産省通商政策局長。35分　加藤厚労相、松野、木原、磯崎、栗生正副官房長官、経財相、藤井官房副長官補、中村新型コロナウイルス等感染症対策推進室長、厚労省の大島次官、迫井医務技監、榎本医政局長、大坪健康局長。49分　厚労相、松野、木原、磯崎、栗生正副官房長官、経財相、藤井副長官補、新型コロナウイルス等感染症対策推進室長、厚労省の次官、医務技監。\n",
      "\n",
      "▽15時15分　新谷正義衆院議員。41分　ミリー米統合参謀本部議長の表敬。\n",
      "\n",
      "▽16時7分　小倉少子化相、木原官房副長官、渡辺こども家庭庁長官。33分　松野、木原、磯崎、栗生正副官房長官、谷防災相、村田内閣危機管理監、高橋内閣府政策統括官、広瀬国交省水管理・国土保全局長、大林気象庁長官。\n",
      "\n",
      "▽17時3分　秋葉国家安全保障局長、原内閣情報官。20分　内閣情報官。\n",
      "\n",
      "▽18時27分　公邸。\n",
      " \n"
     ]
    }
   ],
   "source": [
    "print(splited[1])"
   ]
  },
  {
   "cell_type": "code",
   "execution_count": 6,
   "id": "d5f28f3b",
   "metadata": {},
   "outputs": [],
   "source": [
    "df = pd.DataFrame(splited)"
   ]
  },
  {
   "cell_type": "code",
   "execution_count": 7,
   "id": "42240dfe",
   "metadata": {},
   "outputs": [
    {
     "data": {
      "text/html": [
       "<div>\n",
       "<style scoped>\n",
       "    .dataframe tbody tr th:only-of-type {\n",
       "        vertical-align: middle;\n",
       "    }\n",
       "\n",
       "    .dataframe tbody tr th {\n",
       "        vertical-align: top;\n",
       "    }\n",
       "\n",
       "    .dataframe thead th {\n",
       "        text-align: right;\n",
       "    }\n",
       "</style>\n",
       "<table border=\"1\" class=\"dataframe\">\n",
       "  <thead>\n",
       "    <tr style=\"text-align: right;\">\n",
       "      <th></th>\n",
       "      <th>original</th>\n",
       "    </tr>\n",
       "  </thead>\n",
       "  <tbody>\n",
       "    <tr>\n",
       "      <th>0</th>\n",
       "      <td>﻿</td>\n",
       "    </tr>\n",
       "    <tr>\n",
       "      <th>1</th>\n",
       "      <td>\\n7月14日（首相官邸）\\n2023/07/15 日本経済新聞　朝刊 4ページ 489文字...</td>\n",
       "    </tr>\n",
       "    <tr>\n",
       "      <th>2</th>\n",
       "      <td>\\n7月12日・13日（首相官邸）\\n2023/07/14 日本経済新聞　朝刊 4ページ 2...</td>\n",
       "    </tr>\n",
       "  </tbody>\n",
       "</table>\n",
       "</div>"
      ],
      "text/plain": [
       "                                            original\n",
       "0                                                 ﻿ \n",
       "1  \\n7月14日（首相官邸）\\n2023/07/15 日本経済新聞　朝刊 4ページ 489文字...\n",
       "2  \\n7月12日・13日（首相官邸）\\n2023/07/14 日本経済新聞　朝刊 4ページ 2..."
      ]
     },
     "execution_count": 7,
     "metadata": {},
     "output_type": "execute_result"
    }
   ],
   "source": [
    "df = df.rename(columns={0: 'original'})\n",
    "df.head(3)"
   ]
  },
  {
   "cell_type": "markdown",
   "id": "87c9b84d",
   "metadata": {},
   "source": [
    "# neme of PM"
   ]
  },
  {
   "cell_type": "code",
   "execution_count": 8,
   "id": "8a8c82ce",
   "metadata": {},
   "outputs": [],
   "source": [
    "df[\"PM\"] = \"Fumio_Kishida\""
   ]
  },
  {
   "cell_type": "code",
   "execution_count": 9,
   "id": "f9137b91",
   "metadata": {},
   "outputs": [
    {
     "data": {
      "text/html": [
       "<div>\n",
       "<style scoped>\n",
       "    .dataframe tbody tr th:only-of-type {\n",
       "        vertical-align: middle;\n",
       "    }\n",
       "\n",
       "    .dataframe tbody tr th {\n",
       "        vertical-align: top;\n",
       "    }\n",
       "\n",
       "    .dataframe thead th {\n",
       "        text-align: right;\n",
       "    }\n",
       "</style>\n",
       "<table border=\"1\" class=\"dataframe\">\n",
       "  <thead>\n",
       "    <tr style=\"text-align: right;\">\n",
       "      <th></th>\n",
       "      <th>original</th>\n",
       "      <th>PM</th>\n",
       "      <th>date</th>\n",
       "    </tr>\n",
       "  </thead>\n",
       "  <tbody>\n",
       "    <tr>\n",
       "      <th>0</th>\n",
       "      <td>﻿</td>\n",
       "      <td>Fumio_Kishida</td>\n",
       "      <td>﻿</td>\n",
       "    </tr>\n",
       "    <tr>\n",
       "      <th>1</th>\n",
       "      <td>\\n7月14日（首相官邸）\\n2023/07/15 日本経済新聞　朝刊 4ページ 489文字...</td>\n",
       "      <td>Fumio_Kishida</td>\n",
       "      <td>7月14日</td>\n",
       "    </tr>\n",
       "    <tr>\n",
       "      <th>2</th>\n",
       "      <td>\\n7月12日・13日（首相官邸）\\n2023/07/14 日本経済新聞　朝刊 4ページ 2...</td>\n",
       "      <td>Fumio_Kishida</td>\n",
       "      <td>7月12日・13日</td>\n",
       "    </tr>\n",
       "  </tbody>\n",
       "</table>\n",
       "</div>"
      ],
      "text/plain": [
       "                                            original             PM       date\n",
       "0                                                 ﻿   Fumio_Kishida         ﻿ \n",
       "1  \\n7月14日（首相官邸）\\n2023/07/15 日本経済新聞　朝刊 4ページ 489文字...  Fumio_Kishida      7月14日\n",
       "2  \\n7月12日・13日（首相官邸）\\n2023/07/14 日本経済新聞　朝刊 4ページ 2...  Fumio_Kishida  7月12日・13日"
      ]
     },
     "execution_count": 9,
     "metadata": {},
     "output_type": "execute_result"
    }
   ],
   "source": [
    "df[\"date\"]  = (\n",
    "    df[\"original\"]\n",
    "    .str.split(\"（首相官邸）\",expand=False)\n",
    "    .str.get(0)\n",
    ")\n",
    "df['date'] = df['date'].str.replace('\\n', '')\n",
    "\n",
    "df.head(3)"
   ]
  },
  {
   "cell_type": "code",
   "execution_count": 10,
   "id": "1ac1fc4e",
   "metadata": {},
   "outputs": [
    {
     "data": {
      "text/html": [
       "<div>\n",
       "<style scoped>\n",
       "    .dataframe tbody tr th:only-of-type {\n",
       "        vertical-align: middle;\n",
       "    }\n",
       "\n",
       "    .dataframe tbody tr th {\n",
       "        vertical-align: top;\n",
       "    }\n",
       "\n",
       "    .dataframe thead th {\n",
       "        text-align: right;\n",
       "    }\n",
       "</style>\n",
       "<table border=\"1\" class=\"dataframe\">\n",
       "  <thead>\n",
       "    <tr style=\"text-align: right;\">\n",
       "      <th></th>\n",
       "      <th>original</th>\n",
       "      <th>PM</th>\n",
       "      <th>date</th>\n",
       "      <th>publish_date</th>\n",
       "    </tr>\n",
       "  </thead>\n",
       "  <tbody>\n",
       "    <tr>\n",
       "      <th>0</th>\n",
       "      <td>﻿</td>\n",
       "      <td>Fumio_Kishida</td>\n",
       "      <td>﻿</td>\n",
       "      <td>NaN</td>\n",
       "    </tr>\n",
       "    <tr>\n",
       "      <th>1</th>\n",
       "      <td>\\n7月14日（首相官邸）\\n2023/07/15 日本経済新聞　朝刊 4ページ 489文字...</td>\n",
       "      <td>Fumio_Kishida</td>\n",
       "      <td>7月14日</td>\n",
       "      <td>2023/07/15</td>\n",
       "    </tr>\n",
       "    <tr>\n",
       "      <th>2</th>\n",
       "      <td>\\n7月12日・13日（首相官邸）\\n2023/07/14 日本経済新聞　朝刊 4ページ 2...</td>\n",
       "      <td>Fumio_Kishida</td>\n",
       "      <td>7月12日・13日</td>\n",
       "      <td>2023/07/14</td>\n",
       "    </tr>\n",
       "  </tbody>\n",
       "</table>\n",
       "</div>"
      ],
      "text/plain": [
       "                                            original             PM  \\\n",
       "0                                                 ﻿   Fumio_Kishida   \n",
       "1  \\n7月14日（首相官邸）\\n2023/07/15 日本経済新聞　朝刊 4ページ 489文字...  Fumio_Kishida   \n",
       "2  \\n7月12日・13日（首相官邸）\\n2023/07/14 日本経済新聞　朝刊 4ページ 2...  Fumio_Kishida   \n",
       "\n",
       "        date publish_date  \n",
       "0         ﻿           NaN  \n",
       "1      7月14日   2023/07/15  \n",
       "2  7月12日・13日   2023/07/14  "
      ]
     },
     "execution_count": 10,
     "metadata": {},
     "output_type": "execute_result"
    }
   ],
   "source": [
    "df[\"publish_date\"]  = (\n",
    "    df[\"original\"]\n",
    "    .str.extract(r\"(\\d\\d\\d\\d/\\d\\d/\\d\\d)\", expand=False)\n",
    ")\n",
    "df.head(3)"
   ]
  },
  {
   "cell_type": "code",
   "execution_count": 11,
   "id": "00b5413c",
   "metadata": {},
   "outputs": [
    {
     "data": {
      "text/html": [
       "<div>\n",
       "<style scoped>\n",
       "    .dataframe tbody tr th:only-of-type {\n",
       "        vertical-align: middle;\n",
       "    }\n",
       "\n",
       "    .dataframe tbody tr th {\n",
       "        vertical-align: top;\n",
       "    }\n",
       "\n",
       "    .dataframe thead th {\n",
       "        text-align: right;\n",
       "    }\n",
       "</style>\n",
       "<table border=\"1\" class=\"dataframe\">\n",
       "  <thead>\n",
       "    <tr style=\"text-align: right;\">\n",
       "      <th></th>\n",
       "      <th>original</th>\n",
       "      <th>PM</th>\n",
       "      <th>date</th>\n",
       "      <th>publish_date</th>\n",
       "      <th>activities</th>\n",
       "    </tr>\n",
       "  </thead>\n",
       "  <tbody>\n",
       "    <tr>\n",
       "      <th>0</th>\n",
       "      <td>﻿</td>\n",
       "      <td>Fumio_Kishida</td>\n",
       "      <td>﻿</td>\n",
       "      <td>NaN</td>\n",
       "      <td>NaN</td>\n",
       "    </tr>\n",
       "    <tr>\n",
       "      <th>1</th>\n",
       "      <td>\\n7月14日（首相官邸）\\n2023/07/15 日本経済新聞　朝刊 4ページ 489文字...</td>\n",
       "      <td>Fumio_Kishida</td>\n",
       "      <td>7月14日</td>\n",
       "      <td>2023/07/15</td>\n",
       "      <td>▽12時32分　欧州での北大西洋条約機構（ＮＡＴＯ）首脳会議、欧州連合（ＥＵ）定期首脳協議出...</td>\n",
       "    </tr>\n",
       "    <tr>\n",
       "      <th>2</th>\n",
       "      <td>\\n7月12日・13日（首相官邸）\\n2023/07/14 日本経済新聞　朝刊 4ページ 2...</td>\n",
       "      <td>Fumio_Kishida</td>\n",
       "      <td>7月12日・13日</td>\n",
       "      <td>2023/07/14</td>\n",
       "      <td>（現地時間）〈12日〉　午後　リトアニア・カウナスの杉原記念館訪問。カウナス国際空港で同行記...</td>\n",
       "    </tr>\n",
       "  </tbody>\n",
       "</table>\n",
       "</div>"
      ],
      "text/plain": [
       "                                            original             PM  \\\n",
       "0                                                 ﻿   Fumio_Kishida   \n",
       "1  \\n7月14日（首相官邸）\\n2023/07/15 日本経済新聞　朝刊 4ページ 489文字...  Fumio_Kishida   \n",
       "2  \\n7月12日・13日（首相官邸）\\n2023/07/14 日本経済新聞　朝刊 4ページ 2...  Fumio_Kishida   \n",
       "\n",
       "        date publish_date                                         activities  \n",
       "0         ﻿           NaN                                                NaN  \n",
       "1      7月14日   2023/07/15  ▽12時32分　欧州での北大西洋条約機構（ＮＡＴＯ）首脳会議、欧州連合（ＥＵ）定期首脳協議出...  \n",
       "2  7月12日・13日   2023/07/14  （現地時間）〈12日〉　午後　リトアニア・カウナスの杉原記念館訪問。カウナス国際空港で同行記...  "
      ]
     },
     "execution_count": 11,
     "metadata": {},
     "output_type": "execute_result"
    }
   ],
   "source": [
    "df[\"activities\"] = (\n",
    "    df[\"original\"]\n",
    "    .str.split(\"その他の書誌情報を表示\",expand=False)\n",
    "    .str.get(1)\n",
    ")\n",
    "df['activities'] = df['activities'].str.replace('\\n', '')\n",
    "df.head(3)"
   ]
  },
  {
   "cell_type": "code",
   "execution_count": 12,
   "id": "860bf6d5",
   "metadata": {},
   "outputs": [
    {
     "data": {
      "text/html": [
       "<div>\n",
       "<style scoped>\n",
       "    .dataframe tbody tr th:only-of-type {\n",
       "        vertical-align: middle;\n",
       "    }\n",
       "\n",
       "    .dataframe tbody tr th {\n",
       "        vertical-align: top;\n",
       "    }\n",
       "\n",
       "    .dataframe thead th {\n",
       "        text-align: right;\n",
       "    }\n",
       "</style>\n",
       "<table border=\"1\" class=\"dataframe\">\n",
       "  <thead>\n",
       "    <tr style=\"text-align: right;\">\n",
       "      <th></th>\n",
       "      <th>original</th>\n",
       "      <th>PM</th>\n",
       "      <th>date</th>\n",
       "      <th>publish_date</th>\n",
       "      <th>activities</th>\n",
       "    </tr>\n",
       "  </thead>\n",
       "  <tbody>\n",
       "    <tr>\n",
       "      <th>0</th>\n",
       "      <td>﻿</td>\n",
       "      <td>Fumio_Kishida</td>\n",
       "      <td>﻿</td>\n",
       "      <td>NaN</td>\n",
       "      <td>NaN</td>\n",
       "    </tr>\n",
       "    <tr>\n",
       "      <th>1</th>\n",
       "      <td>\\n7月14日（首相官邸）\\n2023/07/15 日本経済新聞　朝刊 4ページ 489文字...</td>\n",
       "      <td>Fumio_Kishida</td>\n",
       "      <td>7月14日</td>\n",
       "      <td>2023/07/15</td>\n",
       "      <td>▽12時32分　欧州での北大西洋条約機構（ＮＡＴＯ）首脳会議、欧州連合（ＥＵ）定期首脳協議出...</td>\n",
       "    </tr>\n",
       "    <tr>\n",
       "      <th>2</th>\n",
       "      <td>\\n7月12日・13日（首相官邸）\\n2023/07/14 日本経済新聞　朝刊 4ページ 2...</td>\n",
       "      <td>Fumio_Kishida</td>\n",
       "      <td>7月12日・13日</td>\n",
       "      <td>2023/07/14</td>\n",
       "      <td>（現地時間）〈12日〉　午後　リトアニア・カウナスの杉原記念館訪問。カウナス国際空港で同行記...</td>\n",
       "    </tr>\n",
       "  </tbody>\n",
       "</table>\n",
       "</div>"
      ],
      "text/plain": [
       "                                            original             PM  \\\n",
       "0                                                 ﻿   Fumio_Kishida   \n",
       "1  \\n7月14日（首相官邸）\\n2023/07/15 日本経済新聞　朝刊 4ページ 489文字...  Fumio_Kishida   \n",
       "2  \\n7月12日・13日（首相官邸）\\n2023/07/14 日本経済新聞　朝刊 4ページ 2...  Fumio_Kishida   \n",
       "\n",
       "        date publish_date                                         activities  \n",
       "0         ﻿           NaN                                                NaN  \n",
       "1      7月14日   2023/07/15  ▽12時32分　欧州での北大西洋条約機構（ＮＡＴＯ）首脳会議、欧州連合（ＥＵ）定期首脳協議出...  \n",
       "2  7月12日・13日   2023/07/14  （現地時間）〈12日〉　午後　リトアニア・カウナスの杉原記念館訪問。カウナス国際空港で同行記...  "
      ]
     },
     "execution_count": 12,
     "metadata": {},
     "output_type": "execute_result"
    }
   ],
   "source": [
    "df = df.replace('', pd.NA)\n",
    "df.head(3)"
   ]
  },
  {
   "cell_type": "code",
   "execution_count": 13,
   "id": "eb49c77f",
   "metadata": {},
   "outputs": [
    {
     "name": "stdout",
     "output_type": "stream",
     "text": [
      "Index([0], dtype='int64')\n"
     ]
    }
   ],
   "source": [
    "# 欠損値のある行の番号を取得\n",
    "missing_rows = df.index[df.isna().any(axis=1)]\n",
    "\n",
    "# 結果の表示\n",
    "print(missing_rows)"
   ]
  },
  {
   "cell_type": "code",
   "execution_count": 14,
   "id": "7399f252",
   "metadata": {},
   "outputs": [
    {
     "data": {
      "text/html": [
       "<div>\n",
       "<style scoped>\n",
       "    .dataframe tbody tr th:only-of-type {\n",
       "        vertical-align: middle;\n",
       "    }\n",
       "\n",
       "    .dataframe tbody tr th {\n",
       "        vertical-align: top;\n",
       "    }\n",
       "\n",
       "    .dataframe thead th {\n",
       "        text-align: right;\n",
       "    }\n",
       "</style>\n",
       "<table border=\"1\" class=\"dataframe\">\n",
       "  <thead>\n",
       "    <tr style=\"text-align: right;\">\n",
       "      <th></th>\n",
       "      <th>original</th>\n",
       "      <th>PM</th>\n",
       "      <th>date</th>\n",
       "      <th>publish_date</th>\n",
       "      <th>activities</th>\n",
       "    </tr>\n",
       "  </thead>\n",
       "  <tbody>\n",
       "    <tr>\n",
       "      <th>1</th>\n",
       "      <td>\\n7月14日（首相官邸）\\n2023/07/15 日本経済新聞　朝刊 4ページ 489文字...</td>\n",
       "      <td>Fumio_Kishida</td>\n",
       "      <td>7月14日</td>\n",
       "      <td>2023/07/15</td>\n",
       "      <td>▽12時32分　欧州での北大西洋条約機構（ＮＡＴＯ）首脳会議、欧州連合（ＥＵ）定期首脳協議出...</td>\n",
       "    </tr>\n",
       "    <tr>\n",
       "      <th>2</th>\n",
       "      <td>\\n7月12日・13日（首相官邸）\\n2023/07/14 日本経済新聞　朝刊 4ページ 2...</td>\n",
       "      <td>Fumio_Kishida</td>\n",
       "      <td>7月12日・13日</td>\n",
       "      <td>2023/07/14</td>\n",
       "      <td>（現地時間）〈12日〉　午後　リトアニア・カウナスの杉原記念館訪問。カウナス国際空港で同行記...</td>\n",
       "    </tr>\n",
       "    <tr>\n",
       "      <th>3</th>\n",
       "      <td>\\n7月11・12日（首相官邸）\\n2023/07/13 日本経済新聞　朝刊 4ページ 45...</td>\n",
       "      <td>Fumio_Kishida</td>\n",
       "      <td>7月11・12日</td>\n",
       "      <td>2023/07/13</td>\n",
       "      <td>（現地時間）〈11日〉　午後　政府専用機でポーランドのワルシャワ・ショパン空港を出発。リトア...</td>\n",
       "    </tr>\n",
       "    <tr>\n",
       "      <th>4</th>\n",
       "      <td>\\n7月11日（首相官邸）\\n2023/07/12 日本経済新聞　朝刊 4ページ 198文字...</td>\n",
       "      <td>Fumio_Kishida</td>\n",
       "      <td>7月11日</td>\n",
       "      <td>2023/07/12</td>\n",
       "      <td>▽6時30分　公邸で村田内閣危機管理監、高橋内閣府政策統括官、広瀬国交省水管理・国土保全局長...</td>\n",
       "    </tr>\n",
       "    <tr>\n",
       "      <th>5</th>\n",
       "      <td>\\n7月9、10日（首相官邸）\\n2023/07/11 日本経済新聞　朝刊 4ページ 912...</td>\n",
       "      <td>Fumio_Kishida</td>\n",
       "      <td>7月9、10日</td>\n",
       "      <td>2023/07/11</td>\n",
       "      <td>〈9日〉▽9時22分　広島市南区の自宅発。39分　広島県海田町のイベント会場「サンピア・アキ...</td>\n",
       "    </tr>\n",
       "    <tr>\n",
       "      <th>...</th>\n",
       "      <td>...</td>\n",
       "      <td>...</td>\n",
       "      <td>...</td>\n",
       "      <td>...</td>\n",
       "      <td>...</td>\n",
       "    </tr>\n",
       "    <tr>\n",
       "      <th>626</th>\n",
       "      <td>\\n10月8日（首相官邸）\\n2021/10/09 日本経済新聞　朝刊 4ページ 554文字...</td>\n",
       "      <td>Fumio_Kishida</td>\n",
       "      <td>10月8日</td>\n",
       "      <td>2021/10/09</td>\n",
       "      <td>▽0時45分　二之湯防災相、木原、磯崎、栗生各官房副長官、沖田内閣危機管理監、榊内閣府政策統...</td>\n",
       "    </tr>\n",
       "    <tr>\n",
       "      <th>627</th>\n",
       "      <td>\\n10月7日（首相官邸）\\n2021/10/08 日本経済新聞　朝刊 4ページ 516文字...</td>\n",
       "      <td>Fumio_Kishida</td>\n",
       "      <td>10月7日</td>\n",
       "      <td>2021/10/08</td>\n",
       "      <td>▽8時21分　東京・赤坂の衆院議員宿舎発。24分　官邸。▽9時　高市政調会長、古屋圭司衆院議...</td>\n",
       "    </tr>\n",
       "    <tr>\n",
       "      <th>628</th>\n",
       "      <td>\\n10月6日（首相官邸）\\n2021/10/07 日本経済新聞　朝刊 4ページ 342文字...</td>\n",
       "      <td>Fumio_Kishida</td>\n",
       "      <td>10月6日</td>\n",
       "      <td>2021/10/07</td>\n",
       "      <td>▽9時8分　東京・赤坂の衆院議員宿舎発。22分　東京・三番町の宮内庁分庁舎。就任の記帳。39...</td>\n",
       "    </tr>\n",
       "    <tr>\n",
       "      <th>629</th>\n",
       "      <td>\\n10月5日（首相官邸）\\n2021/10/06 日本経済新聞　朝刊 4ページ 395文字...</td>\n",
       "      <td>Fumio_Kishida</td>\n",
       "      <td>10月5日</td>\n",
       "      <td>2021/10/06</td>\n",
       "      <td>▽7時27分　東京・赤坂の衆院議員宿舎発。31分　官邸。▽8時15分　バイデン米大統領と電話...</td>\n",
       "    </tr>\n",
       "    <tr>\n",
       "      <th>630</th>\n",
       "      <td>\\n10月4日（首相官邸）\\n2021/10/05 日本経済新聞　朝刊 4ページ 413文字...</td>\n",
       "      <td>Fumio_Kishida</td>\n",
       "      <td>10月4日</td>\n",
       "      <td>2021/10/05</td>\n",
       "      <td>▽14時2分　衆院の正副議長、議運委員長、与野党各会派にあいさつ回り。甘利幹事長、森山国対委...</td>\n",
       "    </tr>\n",
       "  </tbody>\n",
       "</table>\n",
       "<p>630 rows × 5 columns</p>\n",
       "</div>"
      ],
      "text/plain": [
       "                                              original             PM  \\\n",
       "1    \\n7月14日（首相官邸）\\n2023/07/15 日本経済新聞　朝刊 4ページ 489文字...  Fumio_Kishida   \n",
       "2    \\n7月12日・13日（首相官邸）\\n2023/07/14 日本経済新聞　朝刊 4ページ 2...  Fumio_Kishida   \n",
       "3    \\n7月11・12日（首相官邸）\\n2023/07/13 日本経済新聞　朝刊 4ページ 45...  Fumio_Kishida   \n",
       "4    \\n7月11日（首相官邸）\\n2023/07/12 日本経済新聞　朝刊 4ページ 198文字...  Fumio_Kishida   \n",
       "5    \\n7月9、10日（首相官邸）\\n2023/07/11 日本経済新聞　朝刊 4ページ 912...  Fumio_Kishida   \n",
       "..                                                 ...            ...   \n",
       "626  \\n10月8日（首相官邸）\\n2021/10/09 日本経済新聞　朝刊 4ページ 554文字...  Fumio_Kishida   \n",
       "627  \\n10月7日（首相官邸）\\n2021/10/08 日本経済新聞　朝刊 4ページ 516文字...  Fumio_Kishida   \n",
       "628  \\n10月6日（首相官邸）\\n2021/10/07 日本経済新聞　朝刊 4ページ 342文字...  Fumio_Kishida   \n",
       "629  \\n10月5日（首相官邸）\\n2021/10/06 日本経済新聞　朝刊 4ページ 395文字...  Fumio_Kishida   \n",
       "630  \\n10月4日（首相官邸）\\n2021/10/05 日本経済新聞　朝刊 4ページ 413文字...  Fumio_Kishida   \n",
       "\n",
       "          date publish_date                                         activities  \n",
       "1        7月14日   2023/07/15  ▽12時32分　欧州での北大西洋条約機構（ＮＡＴＯ）首脳会議、欧州連合（ＥＵ）定期首脳協議出...  \n",
       "2    7月12日・13日   2023/07/14  （現地時間）〈12日〉　午後　リトアニア・カウナスの杉原記念館訪問。カウナス国際空港で同行記...  \n",
       "3     7月11・12日   2023/07/13  （現地時間）〈11日〉　午後　政府専用機でポーランドのワルシャワ・ショパン空港を出発。リトア...  \n",
       "4        7月11日   2023/07/12  ▽6時30分　公邸で村田内閣危機管理監、高橋内閣府政策統括官、広瀬国交省水管理・国土保全局長...  \n",
       "5      7月9、10日   2023/07/11  〈9日〉▽9時22分　広島市南区の自宅発。39分　広島県海田町のイベント会場「サンピア・アキ...  \n",
       "..         ...          ...                                                ...  \n",
       "626      10月8日   2021/10/09  ▽0時45分　二之湯防災相、木原、磯崎、栗生各官房副長官、沖田内閣危機管理監、榊内閣府政策統...  \n",
       "627      10月7日   2021/10/08  ▽8時21分　東京・赤坂の衆院議員宿舎発。24分　官邸。▽9時　高市政調会長、古屋圭司衆院議...  \n",
       "628      10月6日   2021/10/07  ▽9時8分　東京・赤坂の衆院議員宿舎発。22分　東京・三番町の宮内庁分庁舎。就任の記帳。39...  \n",
       "629      10月5日   2021/10/06  ▽7時27分　東京・赤坂の衆院議員宿舎発。31分　官邸。▽8時15分　バイデン米大統領と電話...  \n",
       "630      10月4日   2021/10/05  ▽14時2分　衆院の正副議長、議運委員長、与野党各会派にあいさつ回り。甘利幹事長、森山国対委...  \n",
       "\n",
       "[630 rows x 5 columns]"
      ]
     },
     "execution_count": 14,
     "metadata": {},
     "output_type": "execute_result"
    }
   ],
   "source": [
    "df = df.drop(0, axis=0)\n",
    "df"
   ]
  },
  {
   "cell_type": "code",
   "execution_count": 15,
   "id": "38b2ac74",
   "metadata": {},
   "outputs": [
    {
     "name": "stdout",
     "output_type": "stream",
     "text": [
      "Index([], dtype='int64')\n"
     ]
    }
   ],
   "source": [
    "# 欠損値のある行の番号を取得\n",
    "missing_rows = df.index[df.isna().any(axis=1)]\n",
    "\n",
    "# 結果の表示\n",
    "print(missing_rows)"
   ]
  },
  {
   "cell_type": "code",
   "execution_count": 16,
   "id": "9f4078dc",
   "metadata": {},
   "outputs": [],
   "source": [
    "#print(df.iloc[3])"
   ]
  },
  {
   "cell_type": "code",
   "execution_count": 17,
   "id": "14c86f2e",
   "metadata": {},
   "outputs": [],
   "source": [
    "#filtered_df = df[df['activities'].str.contains('ゴルフ')].copy()"
   ]
  },
  {
   "cell_type": "code",
   "execution_count": 18,
   "id": "14aa5280",
   "metadata": {},
   "outputs": [],
   "source": [
    "#filtered_df"
   ]
  },
  {
   "cell_type": "markdown",
   "id": "00e1543c",
   "metadata": {},
   "source": [
    "# Output as csv"
   ]
  },
  {
   "cell_type": "code",
   "execution_count": 19,
   "id": "39b6d5b9",
   "metadata": {},
   "outputs": [],
   "source": [
    "df.to_csv('kishida_230713_cleaned.csv',encoding='UTF-8')"
   ]
  },
  {
   "cell_type": "code",
   "execution_count": null,
   "id": "5425a41f",
   "metadata": {},
   "outputs": [],
   "source": []
  }
 ],
 "metadata": {
  "kernelspec": {
   "display_name": "Python 3 (ipykernel)",
   "language": "python",
   "name": "python3"
  },
  "language_info": {
   "codemirror_mode": {
    "name": "ipython",
    "version": 3
   },
   "file_extension": ".py",
   "mimetype": "text/x-python",
   "name": "python",
   "nbconvert_exporter": "python",
   "pygments_lexer": "ipython3",
   "version": "3.10.11"
  }
 },
 "nbformat": 4,
 "nbformat_minor": 5
}
