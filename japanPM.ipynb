{
 "cells": [
  {
   "cell_type": "code",
   "execution_count": 69,
   "id": "aa3c02fa",
   "metadata": {},
   "outputs": [],
   "source": [
    "import requests\n",
    "from bs4 import BeautifulSoup\n",
    "import pandas as pd\n",
    "import re"
   ]
  },
  {
   "cell_type": "code",
   "execution_count": 70,
   "id": "54be035d",
   "metadata": {},
   "outputs": [],
   "source": [
    "kishidatext = open('kishida_before230630.txt', 'r')\n",
    "kishida_data = kishidatext.readlines()\n",
    "kishida.close()"
   ]
  },
  {
   "cell_type": "code",
   "execution_count": 71,
   "id": "3eec773e",
   "metadata": {},
   "outputs": [],
   "source": [
    "sugatext = open('suga.txt', 'r')\n",
    "suga_data = sugatext.readlines()\n",
    "suga.close()"
   ]
  },
  {
   "cell_type": "code",
   "execution_count": 72,
   "id": "f0eee8f2",
   "metadata": {},
   "outputs": [],
   "source": [
    "abetext = open('abe.txt', 'r')\n",
    "abe_data = abetext.readlines()\n",
    "abe.close()"
   ]
  },
  {
   "cell_type": "code",
   "execution_count": null,
   "id": "55c21bbb",
   "metadata": {},
   "outputs": [],
   "source": [
    "# term of office"
   ]
  },
  {
   "cell_type": "code",
   "execution_count": 100,
   "id": "ff19a5e6",
   "metadata": {},
   "outputs": [
    {
     "name": "stdout",
     "output_type": "stream",
     "text": [
      "2822\n",
      "384\n",
      "635\n"
     ]
    }
   ],
   "source": [
    "from datetime import datetime\n",
    "\n",
    "abe_term = datetime(2020,9,16) - datetime(2012,12,26)\n",
    "suga_term = datetime(2021,10,4) - datetime(2020,9,16)\n",
    "kishida_term = datetime(2023,6,30) - datetime(2021,10,4)\n",
    "abe_term_days = abe_term.days +1\n",
    "suga_term_days= suga_term.days +1\n",
    "kishida_term_days= kishida_term.days +1\n",
    "print(abe_term_days)\n",
    "print(suga_term_days)\n",
    "print(kishida_term_days)"
   ]
  },
  {
   "cell_type": "markdown",
   "id": "d82a8677",
   "metadata": {},
   "source": [
    "# haircut"
   ]
  },
  {
   "cell_type": "code",
   "execution_count": 91,
   "id": "03a3488c",
   "metadata": {},
   "outputs": [
    {
     "name": "stdout",
     "output_type": "stream",
     "text": [
      "▽９時３４分　公邸発。４２分　東京・鍛冶町の「ヘア　モード　キクチ神田日銀通り店」。散髪。\n",
      "▽１４時３分　東京・鍛冶町の「ヘア　モード　キクチ神田日銀通り店」。散髪。\n",
      "▽１５時５６分　東京・鍛冶町の「ヘア　モード　キクチ神田日銀通り店」。散髪。\n",
      "▽１３時２８分　東京・鍛冶町の「ヘア　モード　キクチ神田日銀通り店」。散髪。\n",
      "▽１８時５４分　東京・鍛冶町の「ヘア　モード　キクチ神田日銀通り店」。散髪。\n",
      "▽１７時４４分　ひたち２０号でＪＲ東京駅。５４分　東京・鍛冶町の「ヘア　モード　キクチ神田日銀通り店」。散髪。\n",
      "▽９時２５分　公邸発。３６分　東京・鍛冶町の「ヘア　モード　キクチ神田日銀通り店」。散髪。\n",
      "▽８時４８分　公邸発。５９分　東京・鍛冶町の「ヘア　モード　キクチ神田日銀通り店」。散髪。\n",
      "▽１５時３２分　東京・鍛冶町の「ヘア　モード　キクチ神田日銀通り店」。散髪。\n",
      "▽１３時３分　東京・鍛冶町の「ヘア　モード　キクチ神田日銀通り店」。散髪。\n",
      "▽１５時３分　東京・鍛冶町の「ヘア　モード　キクチ神田日銀通り店」。散髪。\n",
      "▽１１時１分　東京・鍛冶町の「ヘア　モード　キクチ神田日銀通り店」。散髪。\n",
      "▽１６時９分　東京・鍛冶町の「ヘア　モード　キクチ神田日銀通り店」。散髪。\n",
      "▽１４時４４分　東京・鍛冶町の「ヘア　モード　キクチ神田日銀通り店」。散髪。\n",
      "▽１０時２０分　公邸発。３０分　東京・鍛冶町の「ヘア　モード　キクチ神田日銀通り店」。散髪。\n",
      "▽１５時３分　東京・鍛冶町の「ヘア　モード　キクチ神田日銀通り店」。散髪。\n",
      "▽１４時５５分　東京・鍛冶町の「ヘア　モード　キクチ神田日銀通り店」。散髪。\n",
      "▽１７時５分　東京・鍛冶町の「ヘア　モード　キクチ神田日銀通り店」。散髪。\n",
      "▽１５時８分　東京・鍛冶町の「ヘア　モード　キクチ神田日銀通り店」。散髪。\n",
      "▽１４時５３分　東京・鍛冶町の「ヘア　モード　キクチ神田日銀通り店」。散髪。\n",
      "▽１４時５７分　東京・鍛冶町の「ヘア　モード　キクチ神田日銀通り店」。散髪。\n",
      "▽１６時２１分　東京・鍛冶町の「ヘア　モード　キクチ神田日銀通り店」。散髪。\n",
      "▽２０時１２分　東京・鍛冶町の「ヘア　モード　キクチ神田日銀通り店」。散髪。\n",
      "▽１５時４８分　つばさ１４２号でＪＲ東京駅。５６分　東京・鍛冶町の「ヘア　モード　キクチ神田日銀通り店」。散髪。\n",
      "▽１７時１９分　東京・鍛冶町の「ヘア　モード　キクチ神田日銀通り店」。散髪。\n",
      "▽１７時１９分　東京・鍛冶町の「ヘア　モード　キクチ神田日銀通り店」。散髪。\n",
      "▽１６時１５分　東京・鍛冶町の「ヘア　モード　キクチ神田日銀通り店」。散髪。\n",
      "▽１８時４１分　東京・鍛冶町の「ヘア　モード　キクチ神田日銀通り店」。散髪。\n",
      "▽１１時１分　東京・鍛冶町の「ヘア　モード　キクチ神田日銀通り店」。散髪。\n",
      "▽１３時３分　公邸。５８分　東京・鍛冶町の「ヘア　モード　キクチ神田日銀通り店」。散髪。\n",
      "▽１６時５分　党全国幹事長会議に出席し、あいさつ。４３分　東京・鍛冶町の「ヘア　モード　キクチ神田日銀通り店」。散髪。\n",
      "▽１４時７分　東京・鍛冶町の「ヘア　モード　キクチ神田日銀通り店」。散髪。\n",
      "▽１４時６分　東京・銀座の「ヘア　モード　キクチ銀座店」。散髪。\n",
      "▽１４時　東京・銀座の「ヘア　モード　キクチ銀座店」。散髪。\n",
      "▽１５時３分　東京・紀尾井町のホテルニューオータニ。「ヘアサロン大野」で散髪。\n",
      "▽１３時　東京・紀尾井町のホテルニューオータニ。「ヘアサロン大野」で散髪。\n",
      "▽１０時１３分　公邸発。１９分　東京・紀尾井町のホテルニューオータニ。同ホテル内の「ヘアサロン大野」で散髪。\n",
      "▽１７時１２分　東京・六番町の「カット・イン・ソーレ麹町店」。散髪。\n",
      "▽１７時１分　東京・六番町の「カット・イン・ソーレ麹町店」。散髪。\n",
      "▽１２時５分　東京・紀尾井町のホテルニューオータニ。同ホテル内の「ヘアサロン大野」で散髪。\n",
      "▽２０時５３分　東京・六番町の「カット・イン・ソーレ麹町店」。散髪。\n",
      "41\n"
     ]
    }
   ],
   "source": [
    "kishida_haircut = 0\n",
    "for kishida_line in kishida_data:\n",
    "        if \"散髪\" in kishida_line:\n",
    "            print(kishida_line, end=\"\")\n",
    "            kishida_haircut = kishida_haircut + 1\n",
    "        else:\n",
    "            pass\n",
    "print(kishida_haircut)\n",
    "kishida_haircut"
   ]
  },
  {
   "cell_type": "code",
   "execution_count": 87,
   "id": "23e1708a",
   "metadata": {},
   "outputs": [
    {
     "name": "stdout",
     "output_type": "stream",
     "text": [
      "▽１７時４分　東京・永田町のザ・キャピトルホテル東急。スパ＆バーバー「カージュラジャ　ティアド」で散髪。\n",
      "▽１６時５５分　東京・永田町のザ・キャピトルホテル東急。スパ＆バーバー「カージュラジャ　ティアド」で散髪。\n",
      "▽１６時２２分　東京・永田町のザ・キャピトルホテル東急。スパ＆バーバー「カージュラジャ　ティアド」で散髪。\n",
      "▽１４時４１分　東京・永田町のザ・キャピトルホテル東急。スパ＆バーバー「カージュラジャ　ティアド」で散髪。\n",
      "▽１６時２７分　和泉補佐官。５１分　東京・永田町のザ・キャピトルホテル東急。スパ＆バーバー「カージュラジャ　ティアド」で散髪。\n",
      "▽１６時５６分　東京・永田町のザ・キャピトルホテル東急。スパ＆バーバー「カージュラジャ　ティアド」で散髪。\n",
      "▽１４時２２分　東京・永田町のザ・キャピトルホテル東急。スパ＆バーバー「カージュラジャ　ティアド」で散髪。\n",
      "▽１７時２７分　東京・永田町のザ・キャピトルホテル東急。スパ＆バーバー「カージュラジャ　ティアド」で散髪。\n",
      "▽１３時３７分　衆院議員宿舎発。４１分　東京・永田町のザ・キャピトルホテル東急。スパ＆バーバー「カージュラジャ　ティアド」で散髪。\n",
      "▽１１時２５分　東京・赤坂の衆院議員宿舎発。３１分　東京・永田町のザ・キャピトルホテル東急。スパ＆バーバー「カージュラジャ　ティアド」で散髪。「ザ・キャピトル　フィットネスクラブ」で運動。\n",
      "▽１５時３０分　ザ・キャピトルホテル東急。スパ＆バーバー「カージュラジャ　ティアド」で散髪。「ザ・キャピトル　フィットネスクラブ」で運動。\n",
      "▽１０時２２分　東京・赤坂の衆院議員宿舎発。２７分　東京・永田町のザ・キャピトルホテル東急。スパ＆バーバー「カージュラジャ　ティアド」で散髪。中国料理店「星ケ岡」で秘書官と食事。\n",
      "12\n"
     ]
    }
   ],
   "source": [
    "suga_haircut = 0\n",
    "for suga_line in suga_data:\n",
    "        if \"散髪\" in suga_line:\n",
    "#            print(suga_line, end=\"\")\n",
    "            suga_haircut = suga_haircut + 1\n",
    "        else:\n",
    "            pass\n",
    "print(suga_haircut)"
   ]
  },
  {
   "cell_type": "code",
   "execution_count": 85,
   "id": "993f0879",
   "metadata": {},
   "outputs": [
    {
     "name": "stdout",
     "output_type": "stream",
     "text": [
      "93\n"
     ]
    }
   ],
   "source": [
    "abe_haircut = 0\n",
    "for abe_line in abe_data:\n",
    "        if \"散髪\" in abe_line:\n",
    "#            print(abe_line, end=\"\")\n",
    "            abe_haircut = abe_haircut + 1\n",
    "        else:\n",
    "            pass\n",
    "print(abe_haircut)"
   ]
  },
  {
   "cell_type": "code",
   "execution_count": 92,
   "id": "7e76f4a2",
   "metadata": {},
   "outputs": [
    {
     "name": "stdout",
     "output_type": "stream",
     "text": [
      "▽１３時４７分　東京・銀座のリラクセーションサロン「クイーンズウェイ銀座並木通り店」。マッサージ。\n",
      "▽１５時１分　ＪＰＸの大納会式典に出席し、あいさつ。３２分　東京・銀座のリラクセーションサロン「クイーンズウェイ銀座並木通り店」。マッサージ。\n",
      "▽１４時３分　東京・銀座のリラクセーションサロン「クイーンズウェイ銀座並木通り店」。マッサージ。\n",
      "▽１６時５２分　東京・銀座のリラクセーションサロン「クイーンズウェイ銀座並木通り店」。マッサージ。\n",
      "▽１３時３分　東京・銀座のリラクセーションサロン「クイーンズウェイ銀座並木通り店」。マッサージ。\n",
      "▽１４時１５分　東京・銀座のリラクセーションサロン「クイーンズウェイ銀座並木通り店」。マッサージ。\n",
      "▽１４時７分　東京・銀座のリラクセーションサロン「クイーンズウェイ銀座並木通り店」。マッサージ。\n",
      "▽１５時３２分　東京・銀座のリラクセーションサロン「クイーンズウェイ銀座並木通り店」。マッサージ。\n",
      "▽１４時３分　東京・銀座のリラクセーションサロン「クイーンズウェイ銀座並木通り店」。マッサージ。\n",
      "9\n"
     ]
    }
   ],
   "source": [
    "kishida_massage_count = 0\n",
    "for kishida_line in kishida_data:\n",
    "        if \"マッサージ\" in kishida_line:\n",
    "            print(kishida_line, end=\"\")\n",
    "            kishida_massage_count = kishida_massage_count + 1\n",
    "        else:\n",
    "            pass\n",
    "print(kishida_massage_count)"
   ]
  },
  {
   "cell_type": "code",
   "execution_count": null,
   "id": "52c677f0",
   "metadata": {},
   "outputs": [],
   "source": []
  }
 ],
 "metadata": {
  "kernelspec": {
   "display_name": "Python 3 (ipykernel)",
   "language": "python",
   "name": "python3"
  },
  "language_info": {
   "codemirror_mode": {
    "name": "ipython",
    "version": 3
   },
   "file_extension": ".py",
   "mimetype": "text/x-python",
   "name": "python",
   "nbconvert_exporter": "python",
   "pygments_lexer": "ipython3",
   "version": "3.10.11"
  }
 },
 "nbformat": 4,
 "nbformat_minor": 5
}
